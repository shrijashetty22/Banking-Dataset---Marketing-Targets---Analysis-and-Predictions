{
  "cells": [
    {
      "cell_type": "code",
      "execution_count": 216,
      "metadata": {
        "id": "jb7nMiM8xW-z"
      },
      "outputs": [],
      "source": [
        "import pandas as pd\n",
        "import numpy as np\n",
        "import warnings\n",
        "warnings.filterwarnings(\"ignore\")\n",
        "pd.set_option(\"display.max_columns\",None)"
      ]
    },
    {
      "cell_type": "code",
      "execution_count": 217,
      "metadata": {
        "colab": {
          "base_uri": "https://localhost:8080/",
          "height": 250
        },
        "id": "M98wtCQCxW-1",
        "outputId": "567b8ff2-831e-419c-8485-989ee6d0ddec"
      },
      "outputs": [
        {
          "output_type": "execute_result",
          "data": {
            "text/plain": [
              "   age          job  marital  education default  balance housing loan  \\\n",
              "0   30   unemployed  married    primary      no     1787      no   no   \n",
              "1   33     services  married  secondary      no     4789     yes  yes   \n",
              "2   35   management   single   tertiary      no     1350     yes   no   \n",
              "3   30   management  married   tertiary      no     1476     yes  yes   \n",
              "4   59  blue-collar  married  secondary      no        0     yes   no   \n",
              "\n",
              "    contact  day month  duration  campaign  pdays  previous poutcome   y  \n",
              "0  cellular   19   oct        79         1     -1         0  unknown  no  \n",
              "1  cellular   11   may       220         1    339         4  failure  no  \n",
              "2  cellular   16   apr       185         1    330         1  failure  no  \n",
              "3   unknown    3   jun       199         4     -1         0  unknown  no  \n",
              "4   unknown    5   may       226         1     -1         0  unknown  no  "
            ],
            "text/html": [
              "\n",
              "  <div id=\"df-8c91f8a2-6d7f-42ae-8b67-876e0bcbb53e\">\n",
              "    <div class=\"colab-df-container\">\n",
              "      <div>\n",
              "<style scoped>\n",
              "    .dataframe tbody tr th:only-of-type {\n",
              "        vertical-align: middle;\n",
              "    }\n",
              "\n",
              "    .dataframe tbody tr th {\n",
              "        vertical-align: top;\n",
              "    }\n",
              "\n",
              "    .dataframe thead th {\n",
              "        text-align: right;\n",
              "    }\n",
              "</style>\n",
              "<table border=\"1\" class=\"dataframe\">\n",
              "  <thead>\n",
              "    <tr style=\"text-align: right;\">\n",
              "      <th></th>\n",
              "      <th>age</th>\n",
              "      <th>job</th>\n",
              "      <th>marital</th>\n",
              "      <th>education</th>\n",
              "      <th>default</th>\n",
              "      <th>balance</th>\n",
              "      <th>housing</th>\n",
              "      <th>loan</th>\n",
              "      <th>contact</th>\n",
              "      <th>day</th>\n",
              "      <th>month</th>\n",
              "      <th>duration</th>\n",
              "      <th>campaign</th>\n",
              "      <th>pdays</th>\n",
              "      <th>previous</th>\n",
              "      <th>poutcome</th>\n",
              "      <th>y</th>\n",
              "    </tr>\n",
              "  </thead>\n",
              "  <tbody>\n",
              "    <tr>\n",
              "      <th>0</th>\n",
              "      <td>30</td>\n",
              "      <td>unemployed</td>\n",
              "      <td>married</td>\n",
              "      <td>primary</td>\n",
              "      <td>no</td>\n",
              "      <td>1787</td>\n",
              "      <td>no</td>\n",
              "      <td>no</td>\n",
              "      <td>cellular</td>\n",
              "      <td>19</td>\n",
              "      <td>oct</td>\n",
              "      <td>79</td>\n",
              "      <td>1</td>\n",
              "      <td>-1</td>\n",
              "      <td>0</td>\n",
              "      <td>unknown</td>\n",
              "      <td>no</td>\n",
              "    </tr>\n",
              "    <tr>\n",
              "      <th>1</th>\n",
              "      <td>33</td>\n",
              "      <td>services</td>\n",
              "      <td>married</td>\n",
              "      <td>secondary</td>\n",
              "      <td>no</td>\n",
              "      <td>4789</td>\n",
              "      <td>yes</td>\n",
              "      <td>yes</td>\n",
              "      <td>cellular</td>\n",
              "      <td>11</td>\n",
              "      <td>may</td>\n",
              "      <td>220</td>\n",
              "      <td>1</td>\n",
              "      <td>339</td>\n",
              "      <td>4</td>\n",
              "      <td>failure</td>\n",
              "      <td>no</td>\n",
              "    </tr>\n",
              "    <tr>\n",
              "      <th>2</th>\n",
              "      <td>35</td>\n",
              "      <td>management</td>\n",
              "      <td>single</td>\n",
              "      <td>tertiary</td>\n",
              "      <td>no</td>\n",
              "      <td>1350</td>\n",
              "      <td>yes</td>\n",
              "      <td>no</td>\n",
              "      <td>cellular</td>\n",
              "      <td>16</td>\n",
              "      <td>apr</td>\n",
              "      <td>185</td>\n",
              "      <td>1</td>\n",
              "      <td>330</td>\n",
              "      <td>1</td>\n",
              "      <td>failure</td>\n",
              "      <td>no</td>\n",
              "    </tr>\n",
              "    <tr>\n",
              "      <th>3</th>\n",
              "      <td>30</td>\n",
              "      <td>management</td>\n",
              "      <td>married</td>\n",
              "      <td>tertiary</td>\n",
              "      <td>no</td>\n",
              "      <td>1476</td>\n",
              "      <td>yes</td>\n",
              "      <td>yes</td>\n",
              "      <td>unknown</td>\n",
              "      <td>3</td>\n",
              "      <td>jun</td>\n",
              "      <td>199</td>\n",
              "      <td>4</td>\n",
              "      <td>-1</td>\n",
              "      <td>0</td>\n",
              "      <td>unknown</td>\n",
              "      <td>no</td>\n",
              "    </tr>\n",
              "    <tr>\n",
              "      <th>4</th>\n",
              "      <td>59</td>\n",
              "      <td>blue-collar</td>\n",
              "      <td>married</td>\n",
              "      <td>secondary</td>\n",
              "      <td>no</td>\n",
              "      <td>0</td>\n",
              "      <td>yes</td>\n",
              "      <td>no</td>\n",
              "      <td>unknown</td>\n",
              "      <td>5</td>\n",
              "      <td>may</td>\n",
              "      <td>226</td>\n",
              "      <td>1</td>\n",
              "      <td>-1</td>\n",
              "      <td>0</td>\n",
              "      <td>unknown</td>\n",
              "      <td>no</td>\n",
              "    </tr>\n",
              "  </tbody>\n",
              "</table>\n",
              "</div>\n",
              "      <button class=\"colab-df-convert\" onclick=\"convertToInteractive('df-8c91f8a2-6d7f-42ae-8b67-876e0bcbb53e')\"\n",
              "              title=\"Convert this dataframe to an interactive table.\"\n",
              "              style=\"display:none;\">\n",
              "        \n",
              "  <svg xmlns=\"http://www.w3.org/2000/svg\" height=\"24px\"viewBox=\"0 0 24 24\"\n",
              "       width=\"24px\">\n",
              "    <path d=\"M0 0h24v24H0V0z\" fill=\"none\"/>\n",
              "    <path d=\"M18.56 5.44l.94 2.06.94-2.06 2.06-.94-2.06-.94-.94-2.06-.94 2.06-2.06.94zm-11 1L8.5 8.5l.94-2.06 2.06-.94-2.06-.94L8.5 2.5l-.94 2.06-2.06.94zm10 10l.94 2.06.94-2.06 2.06-.94-2.06-.94-.94-2.06-.94 2.06-2.06.94z\"/><path d=\"M17.41 7.96l-1.37-1.37c-.4-.4-.92-.59-1.43-.59-.52 0-1.04.2-1.43.59L10.3 9.45l-7.72 7.72c-.78.78-.78 2.05 0 2.83L4 21.41c.39.39.9.59 1.41.59.51 0 1.02-.2 1.41-.59l7.78-7.78 2.81-2.81c.8-.78.8-2.07 0-2.86zM5.41 20L4 18.59l7.72-7.72 1.47 1.35L5.41 20z\"/>\n",
              "  </svg>\n",
              "      </button>\n",
              "      \n",
              "  <style>\n",
              "    .colab-df-container {\n",
              "      display:flex;\n",
              "      flex-wrap:wrap;\n",
              "      gap: 12px;\n",
              "    }\n",
              "\n",
              "    .colab-df-convert {\n",
              "      background-color: #E8F0FE;\n",
              "      border: none;\n",
              "      border-radius: 50%;\n",
              "      cursor: pointer;\n",
              "      display: none;\n",
              "      fill: #1967D2;\n",
              "      height: 32px;\n",
              "      padding: 0 0 0 0;\n",
              "      width: 32px;\n",
              "    }\n",
              "\n",
              "    .colab-df-convert:hover {\n",
              "      background-color: #E2EBFA;\n",
              "      box-shadow: 0px 1px 2px rgba(60, 64, 67, 0.3), 0px 1px 3px 1px rgba(60, 64, 67, 0.15);\n",
              "      fill: #174EA6;\n",
              "    }\n",
              "\n",
              "    [theme=dark] .colab-df-convert {\n",
              "      background-color: #3B4455;\n",
              "      fill: #D2E3FC;\n",
              "    }\n",
              "\n",
              "    [theme=dark] .colab-df-convert:hover {\n",
              "      background-color: #434B5C;\n",
              "      box-shadow: 0px 1px 3px 1px rgba(0, 0, 0, 0.15);\n",
              "      filter: drop-shadow(0px 1px 2px rgba(0, 0, 0, 0.3));\n",
              "      fill: #FFFFFF;\n",
              "    }\n",
              "  </style>\n",
              "\n",
              "      <script>\n",
              "        const buttonEl =\n",
              "          document.querySelector('#df-8c91f8a2-6d7f-42ae-8b67-876e0bcbb53e button.colab-df-convert');\n",
              "        buttonEl.style.display =\n",
              "          google.colab.kernel.accessAllowed ? 'block' : 'none';\n",
              "\n",
              "        async function convertToInteractive(key) {\n",
              "          const element = document.querySelector('#df-8c91f8a2-6d7f-42ae-8b67-876e0bcbb53e');\n",
              "          const dataTable =\n",
              "            await google.colab.kernel.invokeFunction('convertToInteractive',\n",
              "                                                     [key], {});\n",
              "          if (!dataTable) return;\n",
              "\n",
              "          const docLinkHtml = 'Like what you see? Visit the ' +\n",
              "            '<a target=\"_blank\" href=https://colab.research.google.com/notebooks/data_table.ipynb>data table notebook</a>'\n",
              "            + ' to learn more about interactive tables.';\n",
              "          element.innerHTML = '';\n",
              "          dataTable['output_type'] = 'display_data';\n",
              "          await google.colab.output.renderOutput(dataTable, element);\n",
              "          const docLink = document.createElement('div');\n",
              "          docLink.innerHTML = docLinkHtml;\n",
              "          element.appendChild(docLink);\n",
              "        }\n",
              "      </script>\n",
              "    </div>\n",
              "  </div>\n",
              "  "
            ]
          },
          "metadata": {},
          "execution_count": 217
        }
      ],
      "source": [
        "#Train and Test Dataset \n",
        "adult_df = pd.read_csv(r'/content/train.csv',delimiter=';')\n",
        "\n",
        "adult_df_test = pd.read_csv(r'/content/test.csv',delimiter=';')\n",
        "\n",
        "adult_df_test.head()"
      ]
    },
    {
      "cell_type": "code",
      "execution_count": 218,
      "metadata": {
        "colab": {
          "base_uri": "https://localhost:8080/"
        },
        "id": "-oRPpF6AxW-3",
        "outputId": "86c819c5-f646-4636-cd89-536de527ac7a"
      },
      "outputs": [
        {
          "output_type": "execute_result",
          "data": {
            "text/plain": [
              "(45211, 17)"
            ]
          },
          "metadata": {},
          "execution_count": 218
        }
      ],
      "source": [
        "adult_df.shape"
      ]
    },
    {
      "cell_type": "code",
      "execution_count": 219,
      "metadata": {
        "colab": {
          "base_uri": "https://localhost:8080/",
          "height": 300
        },
        "id": "ILBvO6UGxW-4",
        "outputId": "2e42bd07-f698-4ac7-d0f7-e7627dc1327c"
      },
      "outputs": [
        {
          "output_type": "execute_result",
          "data": {
            "text/plain": [
              "                age        balance           day      duration      campaign  \\\n",
              "count  45211.000000   45211.000000  45211.000000  45211.000000  45211.000000   \n",
              "mean      40.936210    1362.272058     15.806419    258.163080      2.763841   \n",
              "std       10.618762    3044.765829      8.322476    257.527812      3.098021   \n",
              "min       18.000000   -8019.000000      1.000000      0.000000      1.000000   \n",
              "25%       33.000000      72.000000      8.000000    103.000000      1.000000   \n",
              "50%       39.000000     448.000000     16.000000    180.000000      2.000000   \n",
              "75%       48.000000    1428.000000     21.000000    319.000000      3.000000   \n",
              "max       95.000000  102127.000000     31.000000   4918.000000     63.000000   \n",
              "\n",
              "              pdays      previous  \n",
              "count  45211.000000  45211.000000  \n",
              "mean      40.197828      0.580323  \n",
              "std      100.128746      2.303441  \n",
              "min       -1.000000      0.000000  \n",
              "25%       -1.000000      0.000000  \n",
              "50%       -1.000000      0.000000  \n",
              "75%       -1.000000      0.000000  \n",
              "max      871.000000    275.000000  "
            ],
            "text/html": [
              "\n",
              "  <div id=\"df-f088c482-7f8d-4bcb-b577-22a28ae17e7d\">\n",
              "    <div class=\"colab-df-container\">\n",
              "      <div>\n",
              "<style scoped>\n",
              "    .dataframe tbody tr th:only-of-type {\n",
              "        vertical-align: middle;\n",
              "    }\n",
              "\n",
              "    .dataframe tbody tr th {\n",
              "        vertical-align: top;\n",
              "    }\n",
              "\n",
              "    .dataframe thead th {\n",
              "        text-align: right;\n",
              "    }\n",
              "</style>\n",
              "<table border=\"1\" class=\"dataframe\">\n",
              "  <thead>\n",
              "    <tr style=\"text-align: right;\">\n",
              "      <th></th>\n",
              "      <th>age</th>\n",
              "      <th>balance</th>\n",
              "      <th>day</th>\n",
              "      <th>duration</th>\n",
              "      <th>campaign</th>\n",
              "      <th>pdays</th>\n",
              "      <th>previous</th>\n",
              "    </tr>\n",
              "  </thead>\n",
              "  <tbody>\n",
              "    <tr>\n",
              "      <th>count</th>\n",
              "      <td>45211.000000</td>\n",
              "      <td>45211.000000</td>\n",
              "      <td>45211.000000</td>\n",
              "      <td>45211.000000</td>\n",
              "      <td>45211.000000</td>\n",
              "      <td>45211.000000</td>\n",
              "      <td>45211.000000</td>\n",
              "    </tr>\n",
              "    <tr>\n",
              "      <th>mean</th>\n",
              "      <td>40.936210</td>\n",
              "      <td>1362.272058</td>\n",
              "      <td>15.806419</td>\n",
              "      <td>258.163080</td>\n",
              "      <td>2.763841</td>\n",
              "      <td>40.197828</td>\n",
              "      <td>0.580323</td>\n",
              "    </tr>\n",
              "    <tr>\n",
              "      <th>std</th>\n",
              "      <td>10.618762</td>\n",
              "      <td>3044.765829</td>\n",
              "      <td>8.322476</td>\n",
              "      <td>257.527812</td>\n",
              "      <td>3.098021</td>\n",
              "      <td>100.128746</td>\n",
              "      <td>2.303441</td>\n",
              "    </tr>\n",
              "    <tr>\n",
              "      <th>min</th>\n",
              "      <td>18.000000</td>\n",
              "      <td>-8019.000000</td>\n",
              "      <td>1.000000</td>\n",
              "      <td>0.000000</td>\n",
              "      <td>1.000000</td>\n",
              "      <td>-1.000000</td>\n",
              "      <td>0.000000</td>\n",
              "    </tr>\n",
              "    <tr>\n",
              "      <th>25%</th>\n",
              "      <td>33.000000</td>\n",
              "      <td>72.000000</td>\n",
              "      <td>8.000000</td>\n",
              "      <td>103.000000</td>\n",
              "      <td>1.000000</td>\n",
              "      <td>-1.000000</td>\n",
              "      <td>0.000000</td>\n",
              "    </tr>\n",
              "    <tr>\n",
              "      <th>50%</th>\n",
              "      <td>39.000000</td>\n",
              "      <td>448.000000</td>\n",
              "      <td>16.000000</td>\n",
              "      <td>180.000000</td>\n",
              "      <td>2.000000</td>\n",
              "      <td>-1.000000</td>\n",
              "      <td>0.000000</td>\n",
              "    </tr>\n",
              "    <tr>\n",
              "      <th>75%</th>\n",
              "      <td>48.000000</td>\n",
              "      <td>1428.000000</td>\n",
              "      <td>21.000000</td>\n",
              "      <td>319.000000</td>\n",
              "      <td>3.000000</td>\n",
              "      <td>-1.000000</td>\n",
              "      <td>0.000000</td>\n",
              "    </tr>\n",
              "    <tr>\n",
              "      <th>max</th>\n",
              "      <td>95.000000</td>\n",
              "      <td>102127.000000</td>\n",
              "      <td>31.000000</td>\n",
              "      <td>4918.000000</td>\n",
              "      <td>63.000000</td>\n",
              "      <td>871.000000</td>\n",
              "      <td>275.000000</td>\n",
              "    </tr>\n",
              "  </tbody>\n",
              "</table>\n",
              "</div>\n",
              "      <button class=\"colab-df-convert\" onclick=\"convertToInteractive('df-f088c482-7f8d-4bcb-b577-22a28ae17e7d')\"\n",
              "              title=\"Convert this dataframe to an interactive table.\"\n",
              "              style=\"display:none;\">\n",
              "        \n",
              "  <svg xmlns=\"http://www.w3.org/2000/svg\" height=\"24px\"viewBox=\"0 0 24 24\"\n",
              "       width=\"24px\">\n",
              "    <path d=\"M0 0h24v24H0V0z\" fill=\"none\"/>\n",
              "    <path d=\"M18.56 5.44l.94 2.06.94-2.06 2.06-.94-2.06-.94-.94-2.06-.94 2.06-2.06.94zm-11 1L8.5 8.5l.94-2.06 2.06-.94-2.06-.94L8.5 2.5l-.94 2.06-2.06.94zm10 10l.94 2.06.94-2.06 2.06-.94-2.06-.94-.94-2.06-.94 2.06-2.06.94z\"/><path d=\"M17.41 7.96l-1.37-1.37c-.4-.4-.92-.59-1.43-.59-.52 0-1.04.2-1.43.59L10.3 9.45l-7.72 7.72c-.78.78-.78 2.05 0 2.83L4 21.41c.39.39.9.59 1.41.59.51 0 1.02-.2 1.41-.59l7.78-7.78 2.81-2.81c.8-.78.8-2.07 0-2.86zM5.41 20L4 18.59l7.72-7.72 1.47 1.35L5.41 20z\"/>\n",
              "  </svg>\n",
              "      </button>\n",
              "      \n",
              "  <style>\n",
              "    .colab-df-container {\n",
              "      display:flex;\n",
              "      flex-wrap:wrap;\n",
              "      gap: 12px;\n",
              "    }\n",
              "\n",
              "    .colab-df-convert {\n",
              "      background-color: #E8F0FE;\n",
              "      border: none;\n",
              "      border-radius: 50%;\n",
              "      cursor: pointer;\n",
              "      display: none;\n",
              "      fill: #1967D2;\n",
              "      height: 32px;\n",
              "      padding: 0 0 0 0;\n",
              "      width: 32px;\n",
              "    }\n",
              "\n",
              "    .colab-df-convert:hover {\n",
              "      background-color: #E2EBFA;\n",
              "      box-shadow: 0px 1px 2px rgba(60, 64, 67, 0.3), 0px 1px 3px 1px rgba(60, 64, 67, 0.15);\n",
              "      fill: #174EA6;\n",
              "    }\n",
              "\n",
              "    [theme=dark] .colab-df-convert {\n",
              "      background-color: #3B4455;\n",
              "      fill: #D2E3FC;\n",
              "    }\n",
              "\n",
              "    [theme=dark] .colab-df-convert:hover {\n",
              "      background-color: #434B5C;\n",
              "      box-shadow: 0px 1px 3px 1px rgba(0, 0, 0, 0.15);\n",
              "      filter: drop-shadow(0px 1px 2px rgba(0, 0, 0, 0.3));\n",
              "      fill: #FFFFFF;\n",
              "    }\n",
              "  </style>\n",
              "\n",
              "      <script>\n",
              "        const buttonEl =\n",
              "          document.querySelector('#df-f088c482-7f8d-4bcb-b577-22a28ae17e7d button.colab-df-convert');\n",
              "        buttonEl.style.display =\n",
              "          google.colab.kernel.accessAllowed ? 'block' : 'none';\n",
              "\n",
              "        async function convertToInteractive(key) {\n",
              "          const element = document.querySelector('#df-f088c482-7f8d-4bcb-b577-22a28ae17e7d');\n",
              "          const dataTable =\n",
              "            await google.colab.kernel.invokeFunction('convertToInteractive',\n",
              "                                                     [key], {});\n",
              "          if (!dataTable) return;\n",
              "\n",
              "          const docLinkHtml = 'Like what you see? Visit the ' +\n",
              "            '<a target=\"_blank\" href=https://colab.research.google.com/notebooks/data_table.ipynb>data table notebook</a>'\n",
              "            + ' to learn more about interactive tables.';\n",
              "          element.innerHTML = '';\n",
              "          dataTable['output_type'] = 'display_data';\n",
              "          await google.colab.output.renderOutput(dataTable, element);\n",
              "          const docLink = document.createElement('div');\n",
              "          docLink.innerHTML = docLinkHtml;\n",
              "          element.appendChild(docLink);\n",
              "        }\n",
              "      </script>\n",
              "    </div>\n",
              "  </div>\n",
              "  "
            ]
          },
          "metadata": {},
          "execution_count": 219
        }
      ],
      "source": [
        "adult_df.describe()"
      ]
    },
    {
      "cell_type": "markdown",
      "metadata": {
        "id": "06asPoglxW-4"
      },
      "source": [
        "**Pre processing the data**"
      ]
    },
    {
      "cell_type": "code",
      "execution_count": 130,
      "metadata": {
        "colab": {
          "base_uri": "https://localhost:8080/"
        },
        "id": "7Pnajz-bxW_C",
        "outputId": "4bf3e180-c976-41e9-8b78-4239e0c2bdfa"
      },
      "outputs": [
        {
          "output_type": "execute_result",
          "data": {
            "text/plain": [
              "age           int64\n",
              "job          object\n",
              "marital      object\n",
              "education    object\n",
              "default      object\n",
              "balance       int64\n",
              "housing      object\n",
              "loan         object\n",
              "contact      object\n",
              "day           int64\n",
              "month        object\n",
              "duration      int64\n",
              "campaign      int64\n",
              "pdays         int64\n",
              "previous      int64\n",
              "poutcome     object\n",
              "y            object\n",
              "dtype: object"
            ]
          },
          "metadata": {},
          "execution_count": 130
        }
      ],
      "source": [
        "adult_df.dtypes"
      ]
    },
    {
      "cell_type": "code",
      "execution_count": 220,
      "metadata": {
        "colab": {
          "base_uri": "https://localhost:8080/"
        },
        "id": "g7vZ2mY4xW_D",
        "outputId": "23dc9d1f-4025-44b1-8895-7ad1b59fa33d"
      },
      "outputs": [
        {
          "output_type": "execute_result",
          "data": {
            "text/plain": [
              "age          0\n",
              "job          0\n",
              "marital      0\n",
              "education    0\n",
              "default      0\n",
              "balance      0\n",
              "housing      0\n",
              "loan         0\n",
              "contact      0\n",
              "day          0\n",
              "month        0\n",
              "duration     0\n",
              "campaign     0\n",
              "pdays        0\n",
              "previous     0\n",
              "poutcome     0\n",
              "y            0\n",
              "dtype: int64"
            ]
          },
          "metadata": {},
          "execution_count": 220
        }
      ],
      "source": [
        "adult_df.isnull().sum()\n",
        "adult_df_test.isnull().sum()\n",
        "# adult_df.replace(np.nan,0,inplace=True)\n",
        "# adult_df.dropna(axis=1,inplace=True)\n",
        "# adult_df.isnull().sum()"
      ]
    },
    {
      "cell_type": "code",
      "execution_count": 112,
      "metadata": {
        "id": "_M5kZI_Ky4J7"
      },
      "outputs": [],
      "source": []
    },
    {
      "cell_type": "code",
      "execution_count": 222,
      "metadata": {
        "colab": {
          "base_uri": "https://localhost:8080/"
        },
        "id": "moFM0THXxW_D",
        "outputId": "1241d295-7c4d-4861-ac07-b935ef439a74"
      },
      "outputs": [
        {
          "output_type": "stream",
          "name": "stdout",
          "text": [
            "{'age': array([58, 44, 33, 47, 35, 28, 42, 43, 41, 29, 53, 57, 51, 45, 60, 56, 32,\n",
            "       25, 40, 39, 52, 46, 36, 49, 59, 37, 50, 54, 55, 48, 24, 38, 31, 30,\n",
            "       27, 34, 23, 26, 61, 22, 21, 20, 66, 62, 83, 75, 67, 70, 65, 68, 64,\n",
            "       69, 72, 71, 19, 76, 85, 63, 90, 82, 73, 74, 78, 80, 94, 79, 77, 86,\n",
            "       95, 81, 18, 89, 84, 87, 92, 93, 88])}\n",
            "{'job': array(['management', 'technician', 'entrepreneur', 'blue-collar',\n",
            "       'unknown', 'retired', 'admin.', 'services', 'self-employed',\n",
            "       'unemployed', 'housemaid', 'student'], dtype=object)}\n",
            "{'marital': array(['married', 'single', 'divorced'], dtype=object)}\n",
            "{'education': array(['tertiary', 'secondary', 'unknown', 'primary'], dtype=object)}\n",
            "{'default': array(['no', 'yes'], dtype=object)}\n",
            "{'balance': array([ 2143,    29,     2, ...,  8205, 14204, 16353])}\n",
            "{'housing': array(['yes', 'no'], dtype=object)}\n",
            "{'loan': array(['no', 'yes'], dtype=object)}\n",
            "{'contact': array(['unknown', 'cellular', 'telephone'], dtype=object)}\n",
            "{'day': array([ 5,  6,  7,  8,  9, 12, 13, 14, 15, 16, 19, 20, 21, 23, 26, 27, 28,\n",
            "       29, 30,  2,  3,  4, 11, 17, 18, 24, 25,  1, 10, 22, 31])}\n",
            "{'month': array(['may', 'jun', 'jul', 'aug', 'oct', 'nov', 'dec', 'jan', 'feb',\n",
            "       'mar', 'apr', 'sep'], dtype=object)}\n",
            "{'duration': array([ 261,  151,   76, ..., 1298, 1246, 1556])}\n",
            "{'campaign': array([ 1,  2,  3,  5,  4,  6,  7,  8,  9, 10, 11, 12, 13, 19, 14, 24, 16,\n",
            "       32, 18, 22, 15, 17, 25, 21, 43, 51, 63, 41, 26, 28, 55, 50, 38, 23,\n",
            "       20, 29, 31, 37, 30, 46, 27, 58, 33, 35, 34, 36, 39, 44])}\n",
            "{'pdays': array([ -1, 151, 166,  91,  86, 143, 147,  89, 140, 176, 101, 174, 170,\n",
            "       167, 195, 165, 129, 188, 196, 172, 118, 119, 104, 171, 117, 164,\n",
            "       132, 131, 123, 159, 186, 111, 115, 116, 173, 178, 110, 152,  96,\n",
            "       103, 150, 175, 193, 181, 185, 154, 145, 138, 126, 180, 109, 158,\n",
            "       168,  97, 182, 127, 130, 194, 125, 105, 102,  26, 179,  28, 183,\n",
            "       155, 112, 120, 137, 124, 187, 190, 113, 162, 134, 169, 189,   8,\n",
            "       144, 191, 184, 177,   5,  99, 133,  93,  92,  10, 100, 156, 198,\n",
            "       106, 153, 146, 128,   7, 121, 160, 107,  90,  27, 197, 136, 139,\n",
            "       122, 157, 149, 135,  30, 114,  98, 192, 163,  34,  95, 141,  31,\n",
            "       199,  94, 108,  29, 268, 247, 253, 226, 244, 239, 245, 204, 231,\n",
            "       238, 258, 230, 254, 265,  71, 223, 246, 250, 266, 240, 205, 261,\n",
            "       259, 241, 260, 234, 251, 225, 161, 237, 262, 248, 255, 220, 227,\n",
            "       206, 224, 249, 235, 228, 263,   2, 270, 232, 252, 207, 200, 269,\n",
            "       233, 256, 273, 272, 242, 264, 208, 214, 222, 271, 203, 221, 202,\n",
            "       216, 201, 257, 229, 210, 217,  75, 213,  73,  76, 267, 211, 215,\n",
            "        77, 236,  82,   6, 209, 274,   1, 243, 212, 275,  80, 276,   9,\n",
            "       279,  12, 280,  88, 277,  85,  84, 219,  24,  21, 282,  41, 294,\n",
            "        49, 329, 307, 303, 331, 308, 300,  64, 314, 287, 330, 332, 302,\n",
            "       323, 318, 333,  60, 326, 335, 313, 312, 305, 325, 327, 336, 309,\n",
            "       328, 322,  39, 316, 292, 295, 310, 306, 320, 317, 289,  57, 321,\n",
            "       142, 339, 301, 315, 337, 334, 340, 319,  17,  74, 148, 341, 299,\n",
            "       344, 342, 324, 345, 346, 304, 281, 343, 338,  14, 347,  15, 291,\n",
            "       348, 349, 285, 350, 284,  25, 283, 278,  81,   4,  87,  83,  79,\n",
            "        70,  13, 293,  37,  78,  63,  22, 296, 355,  66,  19,  35, 360,\n",
            "       357, 354, 351, 362, 358, 365, 298, 286, 364, 363,  47, 361, 288,\n",
            "       366, 356, 352, 359, 297, 367, 353, 368,  42, 290,  67, 371, 370,\n",
            "       369,  50,  36, 373, 374, 372, 311, 375, 378,  59, 379,  40,  18,\n",
            "        43,  20,  69,  38, 385,  56,  55,  44, 391,  72, 390,  32,  62,\n",
            "       399, 393,  65, 377, 395, 388, 389, 386,  61, 412, 405, 434, 394,\n",
            "       382, 459, 440, 397, 383,  68, 461, 462, 463, 422,  51, 457, 430,\n",
            "       442, 403, 454, 428, 392, 410, 401, 474, 475, 477, 478,  54, 476,\n",
            "       380, 479,  45,  46, 495,  58,  48, 518,  52, 515, 520, 511, 536,\n",
            "       387, 218,  33, 544, 435, 436, 555, 433, 446, 558, 469, 616, 561,\n",
            "       553, 384, 592, 467, 585, 480, 421, 667, 626, 426, 595, 381, 376,\n",
            "       648, 521, 452, 449, 633, 398,  53, 460, 670, 551, 414, 557, 687,\n",
            "       404, 651, 686, 425, 504, 578, 674, 416, 586, 411, 756, 450, 745,\n",
            "       514, 417, 424, 776, 396, 683, 529, 439, 415, 456, 407, 458, 532,\n",
            "       481, 791, 701, 531, 792, 413, 445, 535, 784, 419, 455, 491, 431,\n",
            "       542, 470, 472, 717, 437,   3, 782, 728, 828, 524, 562, 761, 492,\n",
            "       775, 579, 493, 464, 760, 466, 465, 656, 831, 490, 432, 655, 427,\n",
            "       749, 838, 769, 587, 778, 854, 779, 850, 771, 594, 842, 589, 603,\n",
            "       484, 489, 486, 409, 444, 680, 808, 485, 503, 690, 772, 774, 526,\n",
            "       420, 528, 500, 826, 804, 508, 547, 805, 541, 543, 871, 550, 530])}\n",
            "{'previous': array([  0,   3,   1,   4,   2,  11,  16,   6,   5,  10,  12,   7,  18,\n",
            "         9,  21,   8,  14,  15,  26,  37,  13,  25,  20,  27,  17,  23,\n",
            "        38,  29,  24,  51, 275,  22,  19,  30,  58,  28,  32,  40,  55,\n",
            "        35,  41])}\n",
            "{'poutcome': array(['unknown', 'failure', 'other', 'success'], dtype=object)}\n",
            "{'y': array(['no', 'yes'], dtype=object)}\n"
          ]
        }
      ],
      "source": [
        "#Unique for Train Dataset\n",
        "for i in adult_df.columns:\n",
        "    print({i:adult_df[i].unique()})"
      ]
    },
    {
      "cell_type": "code",
      "source": [
        "#Unique for test Dataset\n",
        "for i in adult_df_test.columns:\n",
        "    print({i:adult_df_test[i].unique()})"
      ],
      "metadata": {
        "colab": {
          "base_uri": "https://localhost:8080/"
        },
        "id": "31l_ZQ87oepV",
        "outputId": "342b3f58-ca3d-4ca4-bbbb-83727b3d6cef"
      },
      "execution_count": 223,
      "outputs": [
        {
          "output_type": "stream",
          "name": "stdout",
          "text": [
            "{'age': array([30, 33, 35, 59, 36, 39, 41, 43, 20, 31, 40, 56, 37, 25, 38, 42, 44,\n",
            "       26, 55, 67, 53, 68, 32, 49, 78, 23, 52, 34, 61, 45, 48, 57, 54, 63,\n",
            "       51, 29, 50, 27, 60, 28, 21, 58, 22, 46, 24, 77, 75, 47, 70, 65, 64,\n",
            "       62, 66, 19, 81, 83, 80, 71, 72, 69, 79, 73, 86, 74, 76, 87, 84])}\n",
            "{'job': array(['unemployed', 'services', 'management', 'blue-collar',\n",
            "       'self-employed', 'technician', 'entrepreneur', 'admin.', 'student',\n",
            "       'housemaid', 'retired', 'unknown'], dtype=object)}\n",
            "{'marital': array(['married', 'single', 'divorced'], dtype=object)}\n",
            "{'education': array(['primary', 'secondary', 'tertiary', 'unknown'], dtype=object)}\n",
            "{'default': array(['no', 'yes'], dtype=object)}\n",
            "{'balance': array([ 1787,  4789,  1350, ...,  -333, -3313,  1137])}\n",
            "{'housing': array(['no', 'yes'], dtype=object)}\n",
            "{'loan': array(['no', 'yes'], dtype=object)}\n",
            "{'contact': array(['cellular', 'unknown', 'telephone'], dtype=object)}\n",
            "{'day': array([19, 11, 16,  3,  5, 23, 14,  6, 17, 20, 13, 30, 29, 27,  7, 18, 12,\n",
            "       21, 26, 22,  2,  4, 15,  8, 28,  9,  1, 10, 31, 25, 24])}\n",
            "{'month': array(['oct', 'may', 'apr', 'jun', 'feb', 'aug', 'jan', 'jul', 'nov',\n",
            "       'sep', 'mar', 'dec'], dtype=object)}\n",
            "{'duration': array([  79,  220,  185,  199,  226,  141,  341,  151,   57,  313,  273,\n",
            "        113,  328,  261,   89,  189,  239,  114,  250,  148,   96,  140,\n",
            "        109,  125,  169,  182,  247,  119,  149,   74,  897,   81,   40,\n",
            "        958,  354,  150,   97,  132,  765,   16,  609,  106,  365,  205,\n",
            "         11,  105,   59,  425,  204,  181, 1018, 1740,   98,  441,  272,\n",
            "        159,  295,  314,  579,  554,  323,  227,  134,  223,  155,  130,\n",
            "        630,  164,  268,  380,  154,  221,   67,  367,   87,  701,  652,\n",
            "         63,  398,  224,  406,   60,  521,  279,  203,  201,  372,  391,\n",
            "        165,  231,  291,  233,  473,  736,  337,  553,  345,   65,    9,\n",
            "        259,  371,  280,  243,  435,  258,    7,  317,   76,  170,  386,\n",
            "         83,   69,  564,  588,  779,  281, 1877,   51,   32,  176,  161,\n",
            "        187,   24,   85,  236,   54,   71,  489,   39,  455,   86,  190,\n",
            "         45,  168,  194,  103,  333,  102,   92,  213,  289,   77,  324,\n",
            "         84,   10,   35,   82,  676,   80,  549,  135,  412,  101,  253,\n",
            "        166,   18,  147,   14,   61,  377,  152,  382,  543,  240,   48,\n",
            "        471,  285,  301,  768, 1337,  403,  139,  196,  115,   17,   95,\n",
            "        198,  654,  256,  834,   20,  178,  111,  186,  297,  210,  112,\n",
            "        222,  195,  123,  145,  124,  216,  483,  690,  344,  673,  144,\n",
            "        246,  361,  375, 1097,  180,  373,  230,   58,   88,  487,   29,\n",
            "        484,  262,  644,  699,   49,   64,  121,  197,  331,  138,  312,\n",
            "        120,  526,  211,   62,  988,  451, 1030, 1484,  445,  383,  605,\n",
            "        330,  171,  442,  772,  249,  357,  271,  783,  472,  395,   56,\n",
            "        641,  429,  157,  162,  799, 1370,   22,  215, 1017,  298,  126,\n",
            "          8,  555,  270,  339,  342, 1434,   30,  397,  620,    6,  209,\n",
            "        419,  283,  188,  267,  245, 1065,  207,  456,  131,   94,  567,\n",
            "        153,   53,  234,  108,  208,  597,  505,  332,  212,  493,  681,\n",
            "        287,  202,   37,   72,  325, 1212,  319,  514,  551,  142,  293,\n",
            "        107,  127, 1816,  200,  418,  387,  156,   47,  265,   31,   28,\n",
            "        369,  854,   46,  266,  321,   99,  430,  264,  118,  343,    5,\n",
            "        722,  748,  523,  421,   15,  502,  193,  347,  468,  388, 1735,\n",
            "        172,  117,  587,  501,  282,  110,  104,  378, 1407,  738,   70,\n",
            "        904,  336,  238,  585,   68, 1713,  218,  661,  566,  136,  160,\n",
            "         44,  792,   73,   90,  346,  192,  682,  651,  405,  350,   36,\n",
            "        389, 3025,  219,  427,  533,   19,  819,  278,  617,   34,  668,\n",
            "         75,  146,  356,  251,  352,  184,  568,  260,  447,  426,  174,\n",
            "        284,  428,  237, 1031,  700,  590,   43,   27, 1181,  122,  307,\n",
            "        770,  767,  232,  986,   66,  158,  306,  559,  183,  631, 1282,\n",
            "       1199,  244,   55,  290,  385,  133,   91,   25,  275,  632,  100,\n",
            "         41,  446,  304,  335,  276,   42,  614,  557, 1663,  510, 1259,\n",
            "        225,  404, 1015,  761,  464,  206,  667,  143,  717,   38,  254,\n",
            "        882,  957,  299,  167,  500,  177,  457,  460, 1028,  315,  381,\n",
            "        643,  508,  128,  492,  257,  241,  536,  601, 1168,  277,  364,\n",
            "        229,  402,  175,  255,  820,  116,  463,  603,  191, 2087,  754,\n",
            "        303,  288,  891,  558,  228,  353,  296,  432, 1130,  305,  274,\n",
            "        860,  420,  756,  968,  408,   13,  763,  316,   50,    4,   78,\n",
            "        286,  766,  648,  688,   21,  593,  407,  563,   52,  803,  396,\n",
            "        637,  945, 1178,  506,  409,  327,  618,  936,  329,  179,  731,\n",
            "        670,  318,  415,  137,  349,  263,  671,  452,  163,  586,  650,\n",
            "        610,  747,  252,  883,  684,  686, 1060,  724,  424,  712,  753,\n",
            "       1081,  376,  433,  411, 1083,  757,  524,  653,   93,  503,  217,\n",
            "        475,  340,  242,  530,   23,  935,  773,  423,  626,  578,  248,\n",
            "        528,  785,  952, 1174,  915,  937,  129, 1063,  758,  574,  847,\n",
            "       1558,  789, 1441,  322, 1504,  537,  611,   26,   12,  235,  796,\n",
            "       1126,  697,  931, 1034,  362,  410,  570,  633,  659,  302,  727,\n",
            "        214,  173,  635,  540, 1210,  486,  646,  326,  414,  716,  449,\n",
            "        580,  399, 1029,  755,  619,  606,  971,  348,  594, 1275,  379,\n",
            "       1032,  393,  808,  923,  413,  541,  602,  762,  360,  310,  311,\n",
            "        638,  355,  300,  417,  308,  657,  434,  488, 1309, 1056,  908,\n",
            "        401,  827,  735,  691,  461,  669, 1473, 1386,  294,  910,  550,\n",
            "       1366, 1532,  955,  513, 1236,  809,  482, 1164,  674,  709,  436,\n",
            "        374,  309,  363,  422,  358,  640,  439,  476,  480,  517,  993,\n",
            "         33,  730,  636,  750,  334,  868,  351, 1689,  607,  485, 1021,\n",
            "        732,  577,  733,  788,  863, 1073,  525,  696,  535,  370,  465,\n",
            "        338,  956,  546,  470,  836,  544,  443, 1149,  707, 1451, 1143,\n",
            "        477,  450,  467,  292,  806,  560,  759, 1183,  598,  466,  431,\n",
            "        269,  542,  562,  515, 1165,  547,  780,  916,  474,  509,  679,\n",
            "       1472,  965, 1139,  504,  672,  749,  454,  531,  479,  384,  973,\n",
            "        728,  656,  998,  320,  615,  612,  664,  394,  877, 1971, 1258,\n",
            "        599,  655, 1994,  743,  924,  929,  491,  719,  565, 1529,  390,\n",
            "       1467, 1007,  665,  990,  582,  458,  775,  497,  698,  702,  520,\n",
            "       1156,  884, 1521,  359,  527,  994, 1579,  437, 1225,  865,  569,\n",
            "       1011,  814,  984,  392,  595, 1448,  529, 1006,  622,  494, 1022,\n",
            "       1044,  781, 1124,  400,  516, 1516,  978,  720,  495,  798,  876,\n",
            "        875,  481,  793, 1117, 1223, 1101,  744, 2769,  561,  715,  639,\n",
            "        538, 1721, 1608,  725,  519,  490,  907,  680,  977,  959,  693,\n",
            "       2029, 1009,  718,  805,  623,  976,  600,  469, 1010,  634, 1531,\n",
            "        764,  532,  825,  539,  816,  821, 1231,  742, 2456,  721,  777,\n",
            "        548,  830,  645,  723,  746,  869, 1173,  624,  518,  815,  857,\n",
            "        921,  627,  800,  366, 1088,  812,  866, 1151,  873,  592,  663,\n",
            "        576, 1476,  951, 1234, 1263,  660])}\n",
            "{'campaign': array([ 1,  4,  2,  5,  3,  6, 18, 10,  9,  7, 12, 14, 13, 24, 11,  8, 29,\n",
            "       32, 16, 22, 15, 30, 25, 21, 17, 19, 23, 20, 50, 28, 31, 44])}\n",
            "{'pdays': array([ -1, 339, 330, 176, 147, 241, 152, 105, 342, 101,   5,  92,  56,\n",
            "       170, 182, 297, 196, 460, 137, 367, 145, 169, 207, 266, 288, 168,\n",
            "       345, 436,  90, 183, 146, 335, 347, 119,   7, 271, 181,  88, 141,\n",
            "       126,  61, 373, 351, 242,  62,  91, 308, 250, 172, 265,  78,  28,\n",
            "        79,   1, 188, 167,  89, 164, 462, 209, 321, 254,  94, 364,  96,\n",
            "       356, 149, 363, 275, 325, 341, 260, 358,  87, 303,  98, 327, 337,\n",
            "       322, 102,  99, 370,  84, 212,  63,  81, 191, 360, 332,  80,  85,\n",
            "       247, 150, 175, 382, 261, 336,  58, 206, 112, 199, 133, 208, 253,\n",
            "       135, 278, 140, 298, 273, 124, 281, 162, 323, 349, 117,   2, 256,\n",
            "       333, 116, 268, 136, 198, 357, 259, 353, 174, 371, 205, 246,  69,\n",
            "       315, 110, 461, 184, 270, 127, 187,  64, 130, 346, 100, 352, 808,\n",
            "       113, 378, 292, 287, 107, 293, 139, 138, 193, 274,  97, 103, 359,\n",
            "       185, 674, 211, 300, 334, 280, 479,  95, 262, 362, 225,   3, 366,\n",
            "        60, 190, 368, 122, 343, 131, 365, 299, 115, 316, 180, 154, 313,\n",
            "       264, 350,  73, 232, 204, 143, 375, 186, 344, 210, 248, 177, 221,\n",
            "       189, 104, 258, 305, 171, 120, 317, 178, 386, 118, 404, 374, 282,\n",
            "       179, 284, 227, 291, 173, 871, 238, 294, 222, 435, 340, 426, 239,\n",
            "        83, 111, 415, 255, 235, 244,  38, 683, 329,  59, 151, 192, 158,\n",
            "       338, 388, 165, 348, 197, 295, 109, 484, 326, 369, 397, 414, 319,\n",
            "       474,  93, 249, 272, 355, 195,  82, 541, 231, 153, 201, 761, 114,\n",
            "       385, 267, 161, 467,  75, 106, 223, 312, 148, 309, 283,  86, 166,\n",
            "       160, 450, 500, 311, 123, 159, 687, 224, 361,  74,  76, 286,  77,\n",
            "        57, 219, 331, 804, 144, 234])}\n",
            "{'previous': array([ 0,  4,  1,  3,  2,  5, 20,  7,  6, 10,  9,  8, 18, 19, 12, 13, 11,\n",
            "       14, 15, 24, 17, 22, 23, 25])}\n",
            "{'poutcome': array(['unknown', 'failure', 'other', 'success'], dtype=object)}\n",
            "{'y': array(['no', 'yes'], dtype=object)}\n"
          ]
        }
      ]
    },
    {
      "cell_type": "code",
      "source": [
        "adult_df.replace('unknown',np.nan,inplace=True)\n",
        "adult_df_test.replace('unknown',np.nan,inplace=True)"
      ],
      "metadata": {
        "id": "cYGE0ugtCmvr"
      },
      "execution_count": 224,
      "outputs": []
    },
    {
      "cell_type": "code",
      "source": [
        "import matplotlib.pyplot as plt\n",
        "import seaborn as sns\n",
        "\n",
        "sns.set_theme(style='darkgrid')\n",
        "sns.set(rc = {'figure.figsize':(6, 5)})\n",
        "job = sns.countplot(x=\"job\", data = adult_df, hue = \"y\", order = adult_df[\"job\"].value_counts().index)\n",
        "job.tick_params(axis='x', rotation=60)\n",
        "plt.title(\"Bivariate analysis of the relationship between 'job' and 'y'\")\n",
        "plt.show()"
      ],
      "metadata": {
        "colab": {
          "base_uri": "https://localhost:8080/",
          "height": 581
        },
        "id": "HPfL-6mqTIUq",
        "outputId": "2067f68a-7fa9-4b16-f01d-e2c6bde76bc0"
      },
      "execution_count": 225,
      "outputs": [
        {
          "output_type": "display_data",
          "data": {
            "text/plain": [
              "<Figure size 600x500 with 1 Axes>"
            ],
            "image/png": "[encoded data removed]"
          },
          "metadata": {}
        }
      ]
    },
    {
      "cell_type": "code",
      "source": [
        "adult_df.columns"
      ],
      "metadata": {
        "colab": {
          "base_uri": "https://localhost:8080/"
        },
        "id": "g-K19kwYTX2u",
        "outputId": "fe075c5e-8062-4146-af71-488f52625286"
      },
      "execution_count": 226,
      "outputs": [
        {
          "output_type": "execute_result",
          "data": {
            "text/plain": [
              "Index(['age', 'job', 'marital', 'education', 'default', 'balance', 'housing',\n",
              "       'loan', 'contact', 'day', 'month', 'duration', 'campaign', 'pdays',\n",
              "       'previous', 'poutcome', 'y'],\n",
              "      dtype='object')"
            ]
          },
          "metadata": {},
          "execution_count": 226
        }
      ]
    },
    {
      "cell_type": "code",
      "source": [
        "import matplotlib.pyplot as plt\n",
        "import seaborn as sns\n",
        "\n",
        "sns.set_theme(style='darkgrid')\n",
        "sns.set(rc = {'figure.figsize':(6, 5)})\n",
        "job = sns.countplot(x=\"marital\", data = adult_df, hue = 'y', order = adult_df[\"marital\"].value_counts().index)\n",
        "job.tick_params(axis='x', rotation=60)\n",
        "plt.title(\"Bivariate analysis of the relationship between 'marital' and 'y'\")\n",
        "plt.show()"
      ],
      "metadata": {
        "colab": {
          "base_uri": "https://localhost:8080/",
          "height": 545
        },
        "id": "LT2BbwfQTVRl",
        "outputId": "baaf2968-b1cb-4e59-cddc-b5c26c04650a"
      },
      "execution_count": 227,
      "outputs": [
        {
          "output_type": "display_data",
          "data": {
            "text/plain": [
              "<Figure size 600x500 with 1 Axes>"
            ],
            "image/png": "[encoded data removed]"
          },
          "metadata": {}
        }
      ]
    },
    {
      "cell_type": "code",
      "source": [
        "adult_df.columns"
      ],
      "metadata": {
        "colab": {
          "base_uri": "https://localhost:8080/"
        },
        "id": "YJ5gfF6wV3TB",
        "outputId": "24cb13c5-7ca9-4d4e-e867-9be6f43bc4a7"
      },
      "execution_count": 228,
      "outputs": [
        {
          "output_type": "execute_result",
          "data": {
            "text/plain": [
              "Index(['age', 'job', 'marital', 'education', 'default', 'balance', 'housing',\n",
              "       'loan', 'contact', 'day', 'month', 'duration', 'campaign', 'pdays',\n",
              "       'previous', 'poutcome', 'y'],\n",
              "      dtype='object')"
            ]
          },
          "metadata": {},
          "execution_count": 228
        }
      ]
    },
    {
      "cell_type": "code",
      "source": [
        "job = sns.countplot(x=\"loan\", data = adult_df, hue = 'y', order = adult_df[\"loan\"].value_counts().index)\n",
        "job.tick_params(axis='x', rotation=60)\n",
        "plt.title(\"Bivariate analysis of the relationship between 'marital' and 'y'\")\n",
        "plt.show()"
      ],
      "metadata": {
        "colab": {
          "base_uri": "https://localhost:8080/",
          "height": 511
        },
        "id": "VzO1W40MWKDg",
        "outputId": "4448f484-26fc-48de-b88f-502c0886bc6f"
      },
      "execution_count": 229,
      "outputs": [
        {
          "output_type": "display_data",
          "data": {
            "text/plain": [
              "<Figure size 600x500 with 1 Axes>"
            ],
            "image/png": "[encoded data removed]"
          },
          "metadata": {}
        }
      ]
    },
    {
      "cell_type": "code",
      "source": [
        "job = sns.countplot(x=\"education\", data = adult_df, hue = 'y', order = adult_df[\"education\"].value_counts().index)\n",
        "job.tick_params(axis='x', rotation=60)\n",
        "plt.title(\"Bivariate analysis of the relationship between 'marital' and 'y'\")\n",
        "plt.show()"
      ],
      "metadata": {
        "colab": {
          "base_uri": "https://localhost:8080/",
          "height": 557
        },
        "id": "NkY81keGWCuh",
        "outputId": "860e87f8-2d5a-49a1-83bb-a127c06b6057"
      },
      "execution_count": 139,
      "outputs": [
        {
          "output_type": "display_data",
          "data": {
            "text/plain": [
              "<Figure size 600x500 with 1 Axes>"
            ],
            "image/png": "[encoded data removed]"
          },
          "metadata": {}
        }
      ]
    },
    {
      "cell_type": "code",
      "source": [
        "import matplotlib.pyplot as plt\n",
        "import seaborn as sns\n",
        "\n",
        "# sns.set_theme(style='darkgrid')\n",
        "# sns.set(rc = {'figure.figsize':(6, 5)})\n",
        "job = sns.countplot(x=\"marital\", data = adult_df, hue = 'y', order = adult_df[\"marital\"].value_counts().index)\n",
        "job.tick_params(axis='x', rotation=60)\n",
        "plt.title(\"Bivariate analysis of the relationship between 'marital' and 'y'\")\n",
        "plt.show()"
      ],
      "metadata": {
        "colab": {
          "base_uri": "https://localhost:8080/",
          "height": 545
        },
        "id": "beIkZWotV2Fr",
        "outputId": "e7625114-d9f1-4f45-9252-69c72446761f"
      },
      "execution_count": 140,
      "outputs": [
        {
          "output_type": "display_data",
          "data": {
            "text/plain": [
              "<Figure size 600x500 with 1 Axes>"
            ],
            "image/png": "[encoded data removed]"
          },
          "metadata": {}
        }
      ]
    },
    {
      "cell_type": "code",
      "source": [
        "for col in adult_df_test.columns:\n",
        "  if adult_df_test[col].dtype=='object':\n",
        "      mode_val = adult_df_test[col].mode().iloc[0]  # calculate mode value\n",
        "      adult_df_test[col] = adult_df_test[col].fillna(mode_val)"
      ],
      "metadata": {
        "id": "Rce-JSSHosP1"
      },
      "execution_count": 230,
      "outputs": []
    },
    {
      "cell_type": "code",
      "execution_count": 231,
      "metadata": {
        "id": "NAfqnmb8COtW"
      },
      "outputs": [],
      "source": [
        "for col in adult_df.columns:\n",
        "  if adult_df[col].dtype=='object':\n",
        "      mode_val = adult_df[col].mode().iloc[0]  # calculate mode value\n",
        "      adult_df[col] = adult_df[col].fillna(mode_val)"
      ]
    },
    {
      "cell_type": "code",
      "execution_count": 184,
      "metadata": {
        "id": "QhATiU1RxW_F",
        "outputId": "9cb28e5a-e1f3-4f89-e5ed-cf9cffad3b41",
        "colab": {
          "base_uri": "https://localhost:8080/"
        }
      },
      "outputs": [
        {
          "output_type": "execute_result",
          "data": {
            "text/plain": [
              "Index(['age', 'job', 'marital', 'education', 'default', 'balance', 'housing',\n",
              "       'loan', 'contact', 'day', 'month', 'duration', 'campaign', 'pdays',\n",
              "       'previous', 'poutcome', 'y'],\n",
              "      dtype='object')"
            ]
          },
          "metadata": {},
          "execution_count": 184
        }
      ],
      "source": [
        "adult_df.columns"
      ]
    },
    {
      "cell_type": "code",
      "execution_count": 143,
      "metadata": {
        "id": "wpJZ8FBCxW_G",
        "outputId": "58fa225f-b92f-400a-ab63-b5b36777602a",
        "colab": {
          "base_uri": "https://localhost:8080/",
          "height": 70
        }
      },
      "outputs": [
        {
          "output_type": "execute_result",
          "data": {
            "text/plain": [
              "\"\\nfor x in adult_df_rev.columns:\\n    if adult_df_rev[x].dtype=='object' or adult_df_rev[x].dtype=='bool':\\n        adult_df_rev[x].fillna(adult_df_rev[x].mode()[0],inplace=True)\\n    elif adult_df_rev[x].dtype=='int64' or adult_df_rev[x].dtype=='float64':\\n        adult_df_rev[x].fillna(round(adult_df_rev[x].mean()),inplace=True)\\n\""
            ],
            "application/vnd.google.colaboratory.intrinsic+json": {
              "type": "string"
            }
          },
          "metadata": {},
          "execution_count": 143
        }
      ],
      "source": [
        "\"\"\"\n",
        "for x in adult_df_rev.columns:\n",
        "    if adult_df_rev[x].dtype=='object' or adult_df_rev[x].dtype=='bool':\n",
        "        adult_df_rev[x].fillna(adult_df_rev[x].mode()[0],inplace=True)\n",
        "    elif adult_df_rev[x].dtype=='int64' or adult_df_rev[x].dtype=='float64':\n",
        "        adult_df_rev[x].fillna(round(adult_df_rev[x].mean()),inplace=True)\n",
        "\"\"\""
      ]
    },
    {
      "cell_type": "code",
      "execution_count": 232,
      "metadata": {
        "id": "C4OBCvEDxW_G",
        "outputId": "3389bfbf-93c9-4375-a8e5-5230c07345c9",
        "scrolled": false,
        "colab": {
          "base_uri": "https://localhost:8080/"
        }
      },
      "outputs": [
        {
          "output_type": "stream",
          "name": "stdout",
          "text": [
            "blue-collar      10020\n",
            "management        9458\n",
            "technician        7597\n",
            "admin.            5171\n",
            "services          4154\n",
            "retired           2264\n",
            "self-employed     1579\n",
            "entrepreneur      1487\n",
            "unemployed        1303\n",
            "housemaid         1240\n",
            "student            938\n",
            "Name: job, dtype: int64\n",
            "married     27214\n",
            "single      12790\n",
            "divorced     5207\n",
            "Name: marital, dtype: int64\n",
            "secondary    25059\n",
            "tertiary     13301\n",
            "primary       6851\n",
            "Name: education, dtype: int64\n",
            "no     44396\n",
            "yes      815\n",
            "Name: default, dtype: int64\n",
            "yes    25130\n",
            "no     20081\n",
            "Name: housing, dtype: int64\n",
            "no     37967\n",
            "yes     7244\n",
            "Name: loan, dtype: int64\n",
            "cellular     42305\n",
            "telephone     2906\n",
            "Name: contact, dtype: int64\n",
            "may    13766\n",
            "jul     6895\n",
            "aug     6247\n",
            "jun     5341\n",
            "nov     3970\n",
            "apr     2932\n",
            "feb     2649\n",
            "jan     1403\n",
            "oct      738\n",
            "sep      579\n",
            "mar      477\n",
            "dec      214\n",
            "Name: month, dtype: int64\n",
            "failure    41860\n",
            "other       1840\n",
            "success     1511\n",
            "Name: poutcome, dtype: int64\n",
            "no     39922\n",
            "yes     5289\n",
            "Name: y, dtype: int64\n"
          ]
        }
      ],
      "source": [
        "for x in adult_df.columns:\n",
        "    if adult_df[x].dtype=='object' or adult_df[x].dtype=='bool':\n",
        "      print(adult_df[x].value_counts())"
      ]
    },
    {
      "cell_type": "markdown",
      "metadata": {
        "id": "AzXWh6vqxW_G"
      },
      "source": [
        "# Dummy variables using pd.LabelEncoder()"
      ]
    },
    {
      "cell_type": "code",
      "source": [
        "# For preprocessing the data\n",
        "from sklearn.preprocessing import LabelEncoder\n",
        "\n",
        "le=LabelEncoder()\n",
        "\n",
        "for x in adult_df_test.columns:\n",
        "  if adult_df_test[x].dtypes=='object':\n",
        "     adult_df_test[x]=le.fit_transform(adult_df_test[x])\n",
        "    # \"\"\"\n",
        "    # le_name_mapping = dict(zip(le.classes_, le.transform(le.classes_)))\n",
        "    # print('Feature', x)\n",
        "    # print('mapping', le_name_mapping)\n",
        "    # \"\"\""
      ],
      "metadata": {
        "id": "a8ko3HQfo017"
      },
      "execution_count": 233,
      "outputs": []
    },
    {
      "cell_type": "code",
      "execution_count": 234,
      "metadata": {
        "id": "I9m7m6D1xW_I"
      },
      "outputs": [],
      "source": [
        "# For preprocessing the data\n",
        "from sklearn.preprocessing import LabelEncoder\n",
        "\n",
        "le=LabelEncoder()\n",
        "\n",
        "for x in adult_df.columns:\n",
        "  if adult_df[x].dtypes=='object':\n",
        "     adult_df[x]=le.fit_transform(adult_df[x])\n",
        "    # \"\"\"\n",
        "    # le_name_mapping = dict(zip(le.classes_, le.transform(le.classes_)))\n",
        "    # print('Feature', x)\n",
        "    # print('mapping', le_name_mapping)\n",
        "    # \"\"\""
      ]
    },
    {
      "cell_type": "code",
      "execution_count": 235,
      "metadata": {
        "colab": {
          "base_uri": "https://localhost:8080/",
          "height": 206
        },
        "id": "UUbZlxkaxW_I",
        "outputId": "f6e08b35-ad86-469d-94cf-9f214348976e"
      },
      "outputs": [
        {
          "output_type": "execute_result",
          "data": {
            "text/plain": [
              "   age  job  marital  education  default  balance  housing  loan  contact  \\\n",
              "0   58    4        1          2        0     2143        1     0        0   \n",
              "1   44    9        2          1        0       29        1     0        0   \n",
              "2   33    2        1          1        0        2        1     1        0   \n",
              "3   47    1        1          1        0     1506        1     0        0   \n",
              "4   33    1        2          1        0        1        0     0        0   \n",
              "\n",
              "   day  month  duration  campaign  pdays  previous  poutcome  y  \n",
              "0    5      8       261         1     -1         0         0  0  \n",
              "1    5      8       151         1     -1         0         0  0  \n",
              "2    5      8        76         1     -1         0         0  0  \n",
              "3    5      8        92         1     -1         0         0  0  \n",
              "4    5      8       198         1     -1         0         0  0  "
            ],
            "text/html": [
              "\n",
              "  <div id=\"df-d659f862-07ab-4610-80d0-9522c5d6ba10\">\n",
              "    <div class=\"colab-df-container\">\n",
              "      <div>\n",
              "<style scoped>\n",
              "    .dataframe tbody tr th:only-of-type {\n",
              "        vertical-align: middle;\n",
              "    }\n",
              "\n",
              "    .dataframe tbody tr th {\n",
              "        vertical-align: top;\n",
              "    }\n",
              "\n",
              "    .dataframe thead th {\n",
              "        text-align: right;\n",
              "    }\n",
              "</style>\n",
              "<table border=\"1\" class=\"dataframe\">\n",
              "  <thead>\n",
              "    <tr style=\"text-align: right;\">\n",
              "      <th></th>\n",
              "      <th>age</th>\n",
              "      <th>job</th>\n",
              "      <th>marital</th>\n",
              "      <th>education</th>\n",
              "      <th>default</th>\n",
              "      <th>balance</th>\n",
              "      <th>housing</th>\n",
              "      <th>loan</th>\n",
              "      <th>contact</th>\n",
              "      <th>day</th>\n",
              "      <th>month</th>\n",
              "      <th>duration</th>\n",
              "      <th>campaign</th>\n",
              "      <th>pdays</th>\n",
              "      <th>previous</th>\n",
              "      <th>poutcome</th>\n",
              "      <th>y</th>\n",
              "    </tr>\n",
              "  </thead>\n",
              "  <tbody>\n",
              "    <tr>\n",
              "      <th>0</th>\n",
              "      <td>58</td>\n",
              "      <td>4</td>\n",
              "      <td>1</td>\n",
              "      <td>2</td>\n",
              "      <td>0</td>\n",
              "      <td>2143</td>\n",
              "      <td>1</td>\n",
              "      <td>0</td>\n",
              "      <td>0</td>\n",
              "      <td>5</td>\n",
              "      <td>8</td>\n",
              "      <td>261</td>\n",
              "      <td>1</td>\n",
              "      <td>-1</td>\n",
              "      <td>0</td>\n",
              "      <td>0</td>\n",
              "      <td>0</td>\n",
              "    </tr>\n",
              "    <tr>\n",
              "      <th>1</th>\n",
              "      <td>44</td>\n",
              "      <td>9</td>\n",
              "      <td>2</td>\n",
              "      <td>1</td>\n",
              "      <td>0</td>\n",
              "      <td>29</td>\n",
              "      <td>1</td>\n",
              "      <td>0</td>\n",
              "      <td>0</td>\n",
              "      <td>5</td>\n",
              "      <td>8</td>\n",
              "      <td>151</td>\n",
              "      <td>1</td>\n",
              "      <td>-1</td>\n",
              "      <td>0</td>\n",
              "      <td>0</td>\n",
              "      <td>0</td>\n",
              "    </tr>\n",
              "    <tr>\n",
              "      <th>2</th>\n",
              "      <td>33</td>\n",
              "      <td>2</td>\n",
              "      <td>1</td>\n",
              "      <td>1</td>\n",
              "      <td>0</td>\n",
              "      <td>2</td>\n",
              "      <td>1</td>\n",
              "      <td>1</td>\n",
              "      <td>0</td>\n",
              "      <td>5</td>\n",
              "      <td>8</td>\n",
              "      <td>76</td>\n",
              "      <td>1</td>\n",
              "      <td>-1</td>\n",
              "      <td>0</td>\n",
              "      <td>0</td>\n",
              "      <td>0</td>\n",
              "    </tr>\n",
              "    <tr>\n",
              "      <th>3</th>\n",
              "      <td>47</td>\n",
              "      <td>1</td>\n",
              "      <td>1</td>\n",
              "      <td>1</td>\n",
              "      <td>0</td>\n",
              "      <td>1506</td>\n",
              "      <td>1</td>\n",
              "      <td>0</td>\n",
              "      <td>0</td>\n",
              "      <td>5</td>\n",
              "      <td>8</td>\n",
              "      <td>92</td>\n",
              "      <td>1</td>\n",
              "      <td>-1</td>\n",
              "      <td>0</td>\n",
              "      <td>0</td>\n",
              "      <td>0</td>\n",
              "    </tr>\n",
              "    <tr>\n",
              "      <th>4</th>\n",
              "      <td>33</td>\n",
              "      <td>1</td>\n",
              "      <td>2</td>\n",
              "      <td>1</td>\n",
              "      <td>0</td>\n",
              "      <td>1</td>\n",
              "      <td>0</td>\n",
              "      <td>0</td>\n",
              "      <td>0</td>\n",
              "      <td>5</td>\n",
              "      <td>8</td>\n",
              "      <td>198</td>\n",
              "      <td>1</td>\n",
              "      <td>-1</td>\n",
              "      <td>0</td>\n",
              "      <td>0</td>\n",
              "      <td>0</td>\n",
              "    </tr>\n",
              "  </tbody>\n",
              "</table>\n",
              "</div>\n",
              "      <button class=\"colab-df-convert\" onclick=\"convertToInteractive('df-d659f862-07ab-4610-80d0-9522c5d6ba10')\"\n",
              "              title=\"Convert this dataframe to an interactive table.\"\n",
              "              style=\"display:none;\">\n",
              "        \n",
              "  <svg xmlns=\"http://www.w3.org/2000/svg\" height=\"24px\"viewBox=\"0 0 24 24\"\n",
              "       width=\"24px\">\n",
              "    <path d=\"M0 0h24v24H0V0z\" fill=\"none\"/>\n",
              "    <path d=\"M18.56 5.44l.94 2.06.94-2.06 2.06-.94-2.06-.94-.94-2.06-.94 2.06-2.06.94zm-11 1L8.5 8.5l.94-2.06 2.06-.94-2.06-.94L8.5 2.5l-.94 2.06-2.06.94zm10 10l.94 2.06.94-2.06 2.06-.94-2.06-.94-.94-2.06-.94 2.06-2.06.94z\"/><path d=\"M17.41 7.96l-1.37-1.37c-.4-.4-.92-.59-1.43-.59-.52 0-1.04.2-1.43.59L10.3 9.45l-7.72 7.72c-.78.78-.78 2.05 0 2.83L4 21.41c.39.39.9.59 1.41.59.51 0 1.02-.2 1.41-.59l7.78-7.78 2.81-2.81c.8-.78.8-2.07 0-2.86zM5.41 20L4 18.59l7.72-7.72 1.47 1.35L5.41 20z\"/>\n",
              "  </svg>\n",
              "      </button>\n",
              "      \n",
              "  <style>\n",
              "    .colab-df-container {\n",
              "      display:flex;\n",
              "      flex-wrap:wrap;\n",
              "      gap: 12px;\n",
              "    }\n",
              "\n",
              "    .colab-df-convert {\n",
              "      background-color: #E8F0FE;\n",
              "      border: none;\n",
              "      border-radius: 50%;\n",
              "      cursor: pointer;\n",
              "      display: none;\n",
              "      fill: #1967D2;\n",
              "      height: 32px;\n",
              "      padding: 0 0 0 0;\n",
              "      width: 32px;\n",
              "    }\n",
              "\n",
              "    .colab-df-convert:hover {\n",
              "      background-color: #E2EBFA;\n",
              "      box-shadow: 0px 1px 2px rgba(60, 64, 67, 0.3), 0px 1px 3px 1px rgba(60, 64, 67, 0.15);\n",
              "      fill: #174EA6;\n",
              "    }\n",
              "\n",
              "    [theme=dark] .colab-df-convert {\n",
              "      background-color: #3B4455;\n",
              "      fill: #D2E3FC;\n",
              "    }\n",
              "\n",
              "    [theme=dark] .colab-df-convert:hover {\n",
              "      background-color: #434B5C;\n",
              "      box-shadow: 0px 1px 3px 1px rgba(0, 0, 0, 0.15);\n",
              "      filter: drop-shadow(0px 1px 2px rgba(0, 0, 0, 0.3));\n",
              "      fill: #FFFFFF;\n",
              "    }\n",
              "  </style>\n",
              "\n",
              "      <script>\n",
              "        const buttonEl =\n",
              "          document.querySelector('#df-d659f862-07ab-4610-80d0-9522c5d6ba10 button.colab-df-convert');\n",
              "        buttonEl.style.display =\n",
              "          google.colab.kernel.accessAllowed ? 'block' : 'none';\n",
              "\n",
              "        async function convertToInteractive(key) {\n",
              "          const element = document.querySelector('#df-d659f862-07ab-4610-80d0-9522c5d6ba10');\n",
              "          const dataTable =\n",
              "            await google.colab.kernel.invokeFunction('convertToInteractive',\n",
              "                                                     [key], {});\n",
              "          if (!dataTable) return;\n",
              "\n",
              "          const docLinkHtml = 'Like what you see? Visit the ' +\n",
              "            '<a target=\"_blank\" href=https://colab.research.google.com/notebooks/data_table.ipynb>data table notebook</a>'\n",
              "            + ' to learn more about interactive tables.';\n",
              "          element.innerHTML = '';\n",
              "          dataTable['output_type'] = 'display_data';\n",
              "          await google.colab.output.renderOutput(dataTable, element);\n",
              "          const docLink = document.createElement('div');\n",
              "          docLink.innerHTML = docLinkHtml;\n",
              "          element.appendChild(docLink);\n",
              "        }\n",
              "      </script>\n",
              "    </div>\n",
              "  </div>\n",
              "  "
            ]
          },
          "metadata": {},
          "execution_count": 235
        }
      ],
      "source": [
        "adult_df.head()\n",
        "\n",
        "#0--> <=50K\n",
        "#1--> >50K"
      ]
    },
    {
      "cell_type": "code",
      "execution_count": 236,
      "metadata": {
        "colab": {
          "base_uri": "https://localhost:8080/"
        },
        "id": "EpY1uvVJ1GgD",
        "outputId": "0722a4a9-e826-46eb-d136-1726134926e9"
      },
      "outputs": [
        {
          "output_type": "execute_result",
          "data": {
            "text/plain": [
              "0    39922\n",
              "1     5289\n",
              "Name: y, dtype: int64"
            ]
          },
          "metadata": {},
          "execution_count": 236
        }
      ],
      "source": [
        "adult_df.y.value_counts()"
      ]
    },
    {
      "cell_type": "code",
      "execution_count": 57,
      "metadata": {
        "colab": {
          "base_uri": "https://localhost:8080/"
        },
        "id": "zntd4yYB2el0",
        "outputId": "92bb3fbe-b985-4a29-d1fe-3f28873d7fca"
      },
      "outputs": [
        {
          "output_type": "stream",
          "name": "stdout",
          "text": [
            "Looking in indexes: https://pypi.org/simple, https://us-python.pkg.dev/colab-wheels/public/simple/\n",
            "Collecting imblearn\n",
            "  Downloading imblearn-0.0-py2.py3-none-any.whl (1.9 kB)\n",
            "Requirement already satisfied: imbalanced-learn in /usr/local/lib/python3.9/dist-packages (from imblearn) (0.10.1)\n",
            "Requirement already satisfied: numpy>=1.17.3 in /usr/local/lib/python3.9/dist-packages (from imbalanced-learn->imblearn) (1.22.4)\n",
            "Requirement already satisfied: threadpoolctl>=2.0.0 in /usr/local/lib/python3.9/dist-packages (from imbalanced-learn->imblearn) (3.1.0)\n",
            "Requirement already satisfied: joblib>=1.1.1 in /usr/local/lib/python3.9/dist-packages (from imbalanced-learn->imblearn) (1.2.0)\n",
            "Requirement already satisfied: scipy>=1.3.2 in /usr/local/lib/python3.9/dist-packages (from imbalanced-learn->imblearn) (1.10.1)\n",
            "Requirement already satisfied: scikit-learn>=1.0.2 in /usr/local/lib/python3.9/dist-packages (from imbalanced-learn->imblearn) (1.2.2)\n",
            "Installing collected packages: imblearn\n",
            "Successfully installed imblearn-0.0\n"
          ]
        }
      ],
      "source": [
        "!pip install imblearn"
      ]
    },
    {
      "cell_type": "code",
      "execution_count": 59,
      "metadata": {
        "id": "Y-OCqodYxW_I",
        "outputId": "8f2059c5-8ca0-4fe4-c7b3-35751313cf7e",
        "colab": {
          "base_uri": "https://localhost:8080/"
        }
      },
      "outputs": [
        {
          "output_type": "execute_result",
          "data": {
            "text/plain": [
              "age          int64\n",
              "job          int64\n",
              "marital      int64\n",
              "education    int64\n",
              "default      int64\n",
              "balance      int64\n",
              "housing      int64\n",
              "loan         int64\n",
              "contact      int64\n",
              "day          int64\n",
              "month        int64\n",
              "duration     int64\n",
              "campaign     int64\n",
              "pdays        int64\n",
              "previous     int64\n",
              "poutcome     int64\n",
              "y            int64\n",
              "dtype: object"
            ]
          },
          "metadata": {},
          "execution_count": 59
        }
      ],
      "source": [
        "adult_df.dtypes"
      ]
    },
    {
      "cell_type": "code",
      "execution_count": null,
      "metadata": {
        "id": "q20XKiW2xW_I",
        "outputId": "94216864-ca00-4e3b-803e-50924f2ce851"
      },
      "outputs": [
        {
          "data": {
            "text/plain": [
              "'\\nPreprocessing of data:\\n1. Feature selection\\n2. Handling missing values [Mandatory]\\n\\nConverting categorical values to numerical[Mandatory]\\n1.Manual encoding-->map()\\ndf[\"Smoker\"]=df[\"Smoker\"].map({\"yes\":1,\"no\":0})\\n\\n2.Create dummy variables-->pd.get_dummies(), OneHotEncoder()\\nGender-->F,M,U\\nGender_F\\tGender_M\\tGender_U\\n1\\t\\t0\\t\\t0\\n0\\t\\t1\\t\\t0\\n0\\t\\t0\\t\\t1\\n\\n3.Creating levels-->LabelEncoder()\\na. Identify the unique values present in the variable\\nb. Create a dictionary object into the memory with the unique values as the keys and map the labels to the keys in ascending alphabetical order\\n\\t{\"Private\":2\\n\\t\"Self-emp\":3\\n\\t\"Local-gov\":1\\n\\t\"Fed-gov\":0\\n\\t}\\nc. Map the values into the actual variable and transform it.\\n2\\n2\\n0\\n2\\n1\\n'"
            ]
          },
          "execution_count": 149,
          "metadata": {},
          "output_type": "execute_result"
        }
      ],
      "source": [
        "\"\"\"\n",
        "Preprocessing of data:\n",
        "1. Feature selection\n",
        "2. Handling missing values [Mandatory]\n",
        "\n",
        "Converting categorical values to numerical[Mandatory]\n",
        "1.Manual encoding-->map()\n",
        "df[\"Smoker\"]=df[\"Smoker\"].map({\"yes\":1,\"no\":0})\n",
        "\n",
        "2.Create dummy variables-->pd.get_dummies(), OneHotEncoder()\n",
        "Gender-->F,M,U\n",
        "Gender_F\tGender_M\tGender_U\n",
        "1\t\t0\t\t0\n",
        "0\t\t1\t\t0\n",
        "0\t\t0\t\t1\n",
        "\n",
        "3.Creating levels-->LabelEncoder()\n",
        "a. Identify the unique values present in the variable\n",
        "b. Create a dictionary object into the memory with the unique values as the keys and map the labels to the keys in ascending alphabetical order\n",
        "\t{\"Private\":2\n",
        "\t\"Self-emp\":3\n",
        "\t\"Local-gov\":1\n",
        "\t\"Fed-gov\":0\n",
        "\t}\n",
        "c. Map the values into the actual variable and transform it.\n",
        "2\n",
        "2\n",
        "0\n",
        "2\n",
        "1\n",
        "\"\"\""
      ]
    },
    {
      "cell_type": "code",
      "execution_count": 253,
      "metadata": {
        "id": "o7ZICrLVxW_J"
      },
      "outputs": [],
      "source": [
        "X = adult_df.drop(columns=['y'], axis=1)\n",
        "\n",
        "Y = adult_df['y']\n"
      ]
    },
    {
      "cell_type": "code",
      "source": [
        "X_t = adult_df_test.drop(columns=['y'], axis=1)\n",
        "\n",
        "Y_t = adult_df_test['y']"
      ],
      "metadata": {
        "id": "ezoLicjNqQUM"
      },
      "execution_count": 255,
      "outputs": []
    },
    {
      "cell_type": "code",
      "source": [
        "adult_df_test['y'].value_counts()"
      ],
      "metadata": {
        "colab": {
          "base_uri": "https://localhost:8080/"
        },
        "id": "LaFcq9vfqfdV",
        "outputId": "de096d5e-4918-4188-df17-e57de710077e"
      },
      "execution_count": 256,
      "outputs": [
        {
          "output_type": "execute_result",
          "data": {
            "text/plain": [
              "0    4000\n",
              "1     521\n",
              "Name: y, dtype: int64"
            ]
          },
          "metadata": {},
          "execution_count": 256
        }
      ]
    },
    {
      "cell_type": "code",
      "execution_count": 257,
      "metadata": {
        "colab": {
          "base_uri": "https://localhost:8080/"
        },
        "id": "6X8a2ywKxW_J",
        "outputId": "01edc70f-66d9-4c4e-97b6-71329b79f624"
      },
      "outputs": [
        {
          "output_type": "stream",
          "name": "stdout",
          "text": [
            "(45211, 16)\n",
            "(45211,)\n",
            "(4521, 16)\n",
            "(4521,)\n"
          ]
        }
      ],
      "source": [
        "print(X.shape)\n",
        "print(Y.shape)\n",
        "print(X_t.shape)\n",
        "print(Y_t.shape)"
      ]
    },
    {
      "cell_type": "code",
      "source": [
        "from collections import Counter \n",
        "from imblearn.under_sampling import NearMiss\n",
        "\n",
        "# Instantiate the NearMiss estimator with a sampling strategy of 0.8\n",
        "us = NearMiss(sampling_strategy=0.8)\n",
        "\n",
        "# Fit the estimator to the input data X and target Y, and transform the data\n",
        "X_resampled_t, Y_resampled_t = us.fit_resample(X_t, Y_t)\n",
        "\n",
        "# Print the number of instances in each class before and after resampling\n",
        "print('Original dataset shape %s' % Counter(Y_t))\n",
        "print('Resampled dataset shape %s' % Counter(Y_resampled_t))\n",
        "\n"
      ],
      "metadata": {
        "colab": {
          "base_uri": "https://localhost:8080/"
        },
        "id": "-itvthN5qm8n",
        "outputId": "15d4fab1-3125-4f79-cbb1-80d529056544"
      },
      "execution_count": 258,
      "outputs": [
        {
          "output_type": "stream",
          "name": "stdout",
          "text": [
            "Original dataset shape Counter({0: 4000, 1: 521})\n",
            "Resampled dataset shape Counter({0: 651, 1: 521})\n"
          ]
        }
      ]
    },
    {
      "cell_type": "code",
      "execution_count": 259,
      "metadata": {
        "colab": {
          "base_uri": "https://localhost:8080/"
        },
        "id": "5J_Yv8RB3DG7",
        "outputId": "45ba2d88-7f09-4565-8eae-00866646b237"
      },
      "outputs": [
        {
          "output_type": "stream",
          "name": "stdout",
          "text": [
            "Original dataset shape Counter({0: 39922, 1: 5289})\n",
            "Resampled dataset shape Counter({0: 6611, 1: 5289})\n"
          ]
        }
      ],
      "source": [
        "from collections import Counter \n",
        "from imblearn.under_sampling import NearMiss\n",
        "\n",
        "# Instantiate the NearMiss estimator with a sampling strategy of 0.8\n",
        "us = NearMiss(sampling_strategy=0.8)\n",
        "\n",
        "# Fit the estimator to the input data X and target Y, and transform the data\n",
        "X_resampled, Y_resampled = us.fit_resample(X, Y)\n",
        "\n",
        "# Print the number of instances in each class before and after resampling\n",
        "print('Original dataset shape %s' % Counter(Y))\n",
        "print('Resampled dataset shape %s' % Counter(Y_resampled))\n",
        "\n"
      ]
    },
    {
      "cell_type": "code",
      "execution_count": 244,
      "metadata": {
        "id": "pxFCCle2xW_J"
      },
      "outputs": [],
      "source": [
        "from sklearn.preprocessing import StandardScaler\n",
        "\n",
        "scaler = StandardScaler()\n",
        "\n",
        "scaler.fit(X_resampled)\n",
        "X = scaler.transform(X_resampled)\n",
        "#X=scaler.fit_transform(X)\n",
        "#print(X)\n",
        "\n",
        "from sklearn.preprocessing import StandardScaler\n",
        "\n",
        "scaler = StandardScaler()\n",
        "\n",
        "scaler.fit(X_resampled)\n",
        "X_t = scaler.transform(X_resampled_t)\n",
        "#X=scaler.fit_transform(X)\n",
        "#print(X)"
      ]
    },
    {
      "cell_type": "code",
      "execution_count": 245,
      "metadata": {
        "colab": {
          "base_uri": "https://localhost:8080/"
        },
        "id": "S8-rDfE-xW_J",
        "outputId": "1417f9fe-c5f8-4eea-a63e-b4980e4c264f"
      },
      "outputs": [
        {
          "output_type": "stream",
          "name": "stdout",
          "text": [
            "      age  job  marital  education  default  balance  housing  loan  contact  \\\n",
            "0      30   10        1          0        0     1787        0     0        0   \n",
            "1      33    7        1          1        0     4789        1     1        0   \n",
            "2      35    4        2          2        0     1350        1     0        0   \n",
            "3      30    4        1          2        0     1476        1     1        0   \n",
            "4      59    1        1          1        0        0        1     0        0   \n",
            "...   ...  ...      ...        ...      ...      ...      ...   ...      ...   \n",
            "4516   33    7        1          1        0     -333        1     0        0   \n",
            "4517   57    6        1          2        1    -3313        1     1        0   \n",
            "4518   57    9        1          1        0      295        0     0        0   \n",
            "4519   28    1        1          1        0     1137        0     0        0   \n",
            "4520   44    2        2          2        0     1136        1     1        0   \n",
            "\n",
            "      day  month  duration  campaign  pdays  previous  poutcome  y  \n",
            "0      19     10        79         1     -1         0         0  0  \n",
            "1      11      8       220         1    339         4         0  0  \n",
            "2      16      0       185         1    330         1         0  0  \n",
            "3       3      6       199         4     -1         0         0  0  \n",
            "4       5      8       226         1     -1         0         0  0  \n",
            "...   ...    ...       ...       ...    ...       ...       ... ..  \n",
            "4516   30      5       329         5     -1         0         0  0  \n",
            "4517    9      8       153         1     -1         0         0  0  \n",
            "4518   19      1       151        11     -1         0         0  0  \n",
            "4519    6      3       129         4    211         3         1  0  \n",
            "4520    3      0       345         2    249         7         1  0  \n",
            "\n",
            "[4521 rows x 17 columns]\n"
          ]
        }
      ],
      "source": [
        "print(adult_df_test)"
      ]
    },
    {
      "cell_type": "code",
      "execution_count": null,
      "metadata": {
        "colab": {
          "background_save": true
        },
        "id": "pXUZa5gTxW_J"
      },
      "outputs": [],
      "source": [
        "#np.set_printoptions(threshold=np.inf)"
      ]
    },
    {
      "cell_type": "code",
      "execution_count": 246,
      "metadata": {
        "id": "vGlIM_rkxW_K"
      },
      "outputs": [],
      "source": [
        "Y=Y_resampled.astype(int)\n",
        "Y_t=Y_resampled_t.astype(int)"
      ]
    },
    {
      "cell_type": "code",
      "execution_count": null,
      "metadata": {
        "id": "jt8ABbxtxW_K"
      },
      "outputs": [],
      "source": []
    },
    {
      "cell_type": "markdown",
      "metadata": {
        "id": "q06oLjPpxW_K"
      },
      "source": [
        "**Running a basic model**"
      ]
    },
    {
      "cell_type": "code",
      "execution_count": 260,
      "metadata": {
        "id": "op91fIVnxW_K"
      },
      "outputs": [],
      "source": [
        "from sklearn.model_selection import train_test_split\n",
        "\n",
        "#Split the data into test and train\n",
        "X_train, X_test, Y_train, Y_test = train_test_split(X, Y, test_size=0.3,\n",
        "                                                    random_state=10)  \n"
      ]
    },
    {
      "cell_type": "code",
      "execution_count": 261,
      "metadata": {
        "colab": {
          "base_uri": "https://localhost:8080/"
        },
        "id": "tTpwh4sUxW_K",
        "outputId": "15e8ebcf-6768-4a31-a141-b9fdba5ccc65"
      },
      "outputs": [
        {
          "output_type": "stream",
          "name": "stdout",
          "text": [
            "(31647, 16)\n",
            "(31647,)\n",
            "(13564, 16)\n",
            "(13564,)\n"
          ]
        }
      ],
      "source": [
        "print(X_train.shape)\n",
        "print(Y_train.shape)\n",
        "print(X_test.shape)\n",
        "print(Y_test.shape)"
      ]
    },
    {
      "cell_type": "code",
      "source": [
        "from sklearn.model_selection import StratifiedKFold\n"
      ],
      "metadata": {
        "id": "5NYz2zocucuX"
      },
      "execution_count": 262,
      "outputs": []
    },
    {
      "cell_type": "code",
      "source": [
        "from sklearn.ensemble import RandomForestClassifier  # for classification\n",
        "classifier = RandomForestClassifier(max_depth=None, max_features='log2', n_estimators=200)\n",
        "\n",
        "#fitting training data to the model\n",
        "classifier.fit(X_train,Y_train)\n",
        "Y_pred=classifier.predict(X_test)\n",
        "print(Y_pred)\n",
        "from sklearn.metrics import confusion_matrix, accuracy_score, classification_report\n",
        "\n",
        "cfm=confusion_matrix(Y_test,Y_pred)\n",
        "print(cfm)\n",
        "\n",
        "print(\"Classification report: \")\n",
        "\n",
        "print(classification_report(Y_test,Y_pred))\n",
        "\n",
        "acc=accuracy_score(Y_test, Y_pred)\n",
        "print(\"Accuracy of the model: \",acc)"
      ],
      "metadata": {
        "colab": {
          "base_uri": "https://localhost:8080/"
        },
        "id": "KnCT_tRLleGt",
        "outputId": "8536535c-8e15-49b3-bd22-66de72157c2d"
      },
      "execution_count": 263,
      "outputs": [
        {
          "output_type": "stream",
          "name": "stdout",
          "text": [
            "[0 0 1 ... 0 0 0]\n",
            "[[11659   347]\n",
            " [  912   646]]\n",
            "Classification report: \n",
            "              precision    recall  f1-score   support\n",
            "\n",
            "           0       0.93      0.97      0.95     12006\n",
            "           1       0.65      0.41      0.51      1558\n",
            "\n",
            "    accuracy                           0.91     13564\n",
            "   macro avg       0.79      0.69      0.73     13564\n",
            "weighted avg       0.90      0.91      0.90     13564\n",
            "\n",
            "Accuracy of the model:  0.9071807726334414\n"
          ]
        }
      ]
    },
    {
      "cell_type": "code",
      "source": [
        "# defining the classifier\n",
        "\n",
        "from sklearn.model_selection import GridSearchCV\n",
        "from sklearn.svm import SVC\n",
        "     \n",
        "model = RandomForestClassifier()\n",
        "# creating a dic for the grid\n",
        "param_grid = {\n",
        "    'n_estimators': [50, 100, 200],\n",
        "    'max_depth': [3, 5, None],\n",
        "    'max_features': ['sqrt', 'log2']\n",
        "}\n",
        "\n",
        "# defining the CV\n",
        "cv = StratifiedKFold(n_splits=5)\n",
        "# initializing the grid search\n",
        "grid_search = GridSearchCV(estimator=model, param_grid=param_grid, n_jobs=-1,cv=cv,scoring='f1_weighted')\n",
        "# estimator===model used(random forest,Linear etc)\n",
        "# para=parameters used \n",
        "# cv=StratifiedKFold(n_splits=5)\n",
        "# scoring='f1_weighted'\n",
        "# training the model on grid search for hyperparameter tuning of Adaboost\n",
        "grid_result = grid_search.fit(X_train,Y_train)\n",
        "\n",
        "# finding the best results /hyperparameter tuning of Adaboost\n",
        "print(\"Best: %f using %s\" % (grid_result.best_score_, grid_result.best_params_))"
      ],
      "metadata": {
        "colab": {
          "base_uri": "https://localhost:8080/"
        },
        "id": "dTzIIxhw-lkf",
        "outputId": "12e46651-21b7-43c3-f847-b3d0ccfb995c"
      },
      "execution_count": 264,
      "outputs": [
        {
          "output_type": "stream",
          "name": "stdout",
          "text": [
            "Best: 0.890497 using {'max_depth': None, 'max_features': 'sqrt', 'n_estimators': 100}\n"
          ]
        }
      ]
    },
    {
      "cell_type": "code",
      "source": [
        "Y_pred=classifier.predict(X_t)\n",
        "print(Y_pred)\n",
        "from sklearn.metrics import confusion_matrix, accuracy_score, classification_report\n",
        "\n",
        "cfm=confusion_matrix(Y_t,Y_pred)\n",
        "print(cfm)\n",
        "\n",
        "print(\"Classification report: \")\n",
        "\n",
        "print(classification_report(Y_t,Y_pred))\n",
        "\n",
        "acc=accuracy_score(Y_t,Y_pred)\n",
        "print(\"Accuracy of the model: \",acc)"
      ],
      "metadata": {
        "colab": {
          "base_uri": "https://localhost:8080/"
        },
        "id": "IqiCbL27-iSm",
        "outputId": "3c8f0938-53b1-4bcd-850a-3bcc093a109c"
      },
      "execution_count": 265,
      "outputs": [
        {
          "output_type": "stream",
          "name": "stdout",
          "text": [
            "[0 0 0 ... 0 0 0]\n",
            "[[3969   31]\n",
            " [  94  427]]\n",
            "Classification report: \n",
            "              precision    recall  f1-score   support\n",
            "\n",
            "           0       0.98      0.99      0.98      4000\n",
            "           1       0.93      0.82      0.87       521\n",
            "\n",
            "    accuracy                           0.97      4521\n",
            "   macro avg       0.95      0.91      0.93      4521\n",
            "weighted avg       0.97      0.97      0.97      4521\n",
            "\n",
            "Accuracy of the model:  0.9723512497235125\n"
          ]
        }
      ]
    },
    {
      "cell_type": "code",
      "execution_count": 159,
      "metadata": {
        "colab": {
          "base_uri": "https://localhost:8080/"
        },
        "id": "5jr6yi0BxW_L",
        "outputId": "c0851dfc-910b-4c74-c93c-fcb1d2ed252c",
        "scrolled": true
      },
      "outputs": [
        {
          "output_type": "stream",
          "name": "stdout",
          "text": [
            "[1 1 0 ... 1 0 1]\n",
            "[[1867  135]\n",
            " [ 284 1284]]\n",
            "Classification report: \n",
            "              precision    recall  f1-score   support\n",
            "\n",
            "           0       0.87      0.93      0.90      2002\n",
            "           1       0.90      0.82      0.86      1568\n",
            "\n",
            "    accuracy                           0.88      3570\n",
            "   macro avg       0.89      0.88      0.88      3570\n",
            "weighted avg       0.88      0.88      0.88      3570\n",
            "\n",
            "Accuracy of the model:  0.8826330532212885\n"
          ]
        }
      ],
      "source": [
        "from sklearn.linear_model import LogisticRegression\n",
        "#create a model\n",
        "classifier=LogisticRegression()\n",
        "#fitting training data to the model\n",
        "classifier.fit(X_train,Y_train)\n",
        "\n",
        "Y_pred=classifier.predict(X_test)\n",
        "print(Y_pred)\n",
        "\n",
        "from sklearn.metrics import confusion_matrix, accuracy_score, classification_report\n",
        "\n",
        "cfm=confusion_matrix(Y_test,Y_pred)\n",
        "print(cfm)\n",
        "\n",
        "print(\"Classification report: \")\n",
        "\n",
        "print(classification_report(Y_test,Y_pred))\n",
        "\n",
        "acc=accuracy_score(Y_test, Y_pred)\n",
        "print(\"Accuracy of the model: \",acc)"
      ]
    },
    {
      "cell_type": "code",
      "execution_count": 157,
      "metadata": {
        "colab": {
          "base_uri": "https://localhost:8080/"
        },
        "id": "KwGlGiYCxW_L",
        "outputId": "0106373f-a523-4e2f-f46f-9a3d02e70b4f"
      },
      "outputs": [
        {
          "output_type": "stream",
          "name": "stdout",
          "text": [
            "[[1886  116]\n",
            " [ 200 1368]]\n",
            "Classification report: \n",
            "              precision    recall  f1-score   support\n",
            "\n",
            "           0       0.90      0.94      0.92      2002\n",
            "           1       0.92      0.87      0.90      1568\n",
            "\n",
            "    accuracy                           0.91      3570\n",
            "   macro avg       0.91      0.91      0.91      3570\n",
            "weighted avg       0.91      0.91      0.91      3570\n",
            "\n",
            "Accuracy of the model:  0.911484593837535\n"
          ]
        }
      ],
      "source": []
    },
    {
      "cell_type": "markdown",
      "metadata": {
        "id": "yb1fVveixW_M"
      },
      "source": [
        "**Adjusting the threshold**"
      ]
    },
    {
      "cell_type": "code",
      "execution_count": 100,
      "metadata": {
        "colab": {
          "base_uri": "https://localhost:8080/"
        },
        "id": "XNiYyCFTxW_M",
        "outputId": "2ba239d7-5ac7-4b36-fd2d-c17d2a2faf7b",
        "scrolled": false
      },
      "outputs": [
        {
          "output_type": "stream",
          "name": "stdout",
          "text": [
            "[[6.04849504e-13 1.00000000e+00]\n",
            " [4.30601013e-02 9.56939899e-01]\n",
            " [8.74315167e-01 1.25684833e-01]\n",
            " ...\n",
            " [8.50319307e-02 9.14968069e-01]\n",
            " [9.85314606e-01 1.46853942e-02]\n",
            " [3.96882884e-05 9.99960312e-01]]\n"
          ]
        }
      ],
      "source": [
        "# store the predicted probabilities\n",
        "y_pred_prob = classifier.predict_proba(X_test)\n",
        "print(y_pred_prob)"
      ]
    },
    {
      "cell_type": "code",
      "execution_count": 102,
      "metadata": {
        "id": "I5qbjo05xW_M"
      },
      "outputs": [],
      "source": [
        "y_pred_class=[]\n",
        "for value in y_pred_prob[:,1]:\n",
        "    if value > 0.4:\n",
        "        y_pred_class.append(1)\n",
        "    else:\n",
        "        y_pred_class.append(0)\n",
        "#print(y_pred_class)"
      ]
    },
    {
      "cell_type": "code",
      "execution_count": 104,
      "metadata": {
        "colab": {
          "base_uri": "https://localhost:8080/"
        },
        "id": "TYHAnbQcxW_M",
        "outputId": "aecb9f43-9c3c-4188-f800-ca44f5a8c2d8"
      },
      "outputs": [
        {
          "output_type": "stream",
          "name": "stdout",
          "text": [
            "[[1805  197]\n",
            " [ 235 1333]]\n",
            "Accuracy of the model:  0.8789915966386554\n",
            "              precision    recall  f1-score   support\n",
            "\n",
            "           0       0.88      0.90      0.89      2002\n",
            "           1       0.87      0.85      0.86      1568\n",
            "\n",
            "    accuracy                           0.88      3570\n",
            "   macro avg       0.88      0.88      0.88      3570\n",
            "weighted avg       0.88      0.88      0.88      3570\n",
            "\n"
          ]
        }
      ],
      "source": [
        "from sklearn.metrics import confusion_matrix,accuracy_score,classification_report\n",
        "cfm=confusion_matrix(Y_test,y_pred_class)\n",
        "print(cfm)\n",
        "acc=accuracy_score(Y_test, y_pred_class)\n",
        "print(\"Accuracy of the model: \",acc)\n",
        "print(classification_report(Y_test, y_pred_class))"
      ]
    },
    {
      "cell_type": "code",
      "execution_count": 101,
      "metadata": {
        "colab": {
          "base_uri": "https://localhost:8080/"
        },
        "id": "sftGTV_kxW_M",
        "outputId": "d9dfac2d-682e-434c-fb68-45a8bb8ea812"
      },
      "outputs": [
        {
          "output_type": "stream",
          "name": "stdout",
          "text": [
            "Errors at threshold  0.4 : 432  , type 2 error : 235  , type 1 error: 197\n",
            "Errors at threshold  0.41000000000000003 : 429  , type 2 error : 236  , type 1 error: 193\n",
            "Errors at threshold  0.42000000000000004 : 427  , type 2 error : 243  , type 1 error: 184\n",
            "Errors at threshold  0.43000000000000005 : 430  , type 2 error : 252  , type 1 error: 178\n",
            "Errors at threshold  0.44000000000000006 : 432  , type 2 error : 261  , type 1 error: 171\n",
            "Errors at threshold  0.45000000000000007 : 435  , type 2 error : 267  , type 1 error: 168\n",
            "Errors at threshold  0.4600000000000001 : 427  , type 2 error : 270  , type 1 error: 157\n",
            "Errors at threshold  0.4700000000000001 : 422  , type 2 error : 272  , type 1 error: 150\n",
            "Errors at threshold  0.4800000000000001 : 418  , type 2 error : 274  , type 1 error: 144\n",
            "Errors at threshold  0.4900000000000001 : 420  , type 2 error : 280  , type 1 error: 140\n",
            "Errors at threshold  0.5000000000000001 : 419  , type 2 error : 284  , type 1 error: 135\n",
            "Errors at threshold  0.5100000000000001 : 422  , type 2 error : 289  , type 1 error: 133\n",
            "Errors at threshold  0.5200000000000001 : 421  , type 2 error : 294  , type 1 error: 127\n",
            "Errors at threshold  0.5300000000000001 : 426  , type 2 error : 302  , type 1 error: 124\n",
            "Errors at threshold  0.5400000000000001 : 422  , type 2 error : 303  , type 1 error: 119\n",
            "Errors at threshold  0.5500000000000002 : 423  , type 2 error : 308  , type 1 error: 115\n",
            "Errors at threshold  0.5600000000000002 : 422  , type 2 error : 314  , type 1 error: 108\n",
            "Errors at threshold  0.5700000000000002 : 421  , type 2 error : 319  , type 1 error: 102\n",
            "Errors at threshold  0.5800000000000002 : 422  , type 2 error : 326  , type 1 error: 96\n",
            "Errors at threshold  0.5900000000000002 : 425  , type 2 error : 333  , type 1 error: 92\n",
            "Errors at threshold  0.6000000000000002 : 431  , type 2 error : 343  , type 1 error: 88\n",
            "Errors at threshold  0.6100000000000002 : 426  , type 2 error : 345  , type 1 error: 81\n",
            "Errors at threshold  0.6200000000000002 : 424  , type 2 error : 349  , type 1 error: 75\n",
            "Errors at threshold  0.6300000000000002 : 424  , type 2 error : 353  , type 1 error: 71\n",
            "Errors at threshold  0.6400000000000002 : 425  , type 2 error : 360  , type 1 error: 65\n",
            "Errors at threshold  0.6500000000000002 : 422  , type 2 error : 366  , type 1 error: 56\n",
            "Errors at threshold  0.6600000000000003 : 422  , type 2 error : 369  , type 1 error: 53\n",
            "Errors at threshold  0.6700000000000003 : 427  , type 2 error : 375  , type 1 error: 52\n",
            "Errors at threshold  0.6800000000000003 : 434  , type 2 error : 384  , type 1 error: 50\n",
            "Errors at threshold  0.6900000000000003 : 434  , type 2 error : 391  , type 1 error: 43\n",
            "Errors at threshold  0.7000000000000003 : 438  , type 2 error : 400  , type 1 error: 38\n",
            "Errors at threshold  0.7100000000000003 : 444  , type 2 error : 407  , type 1 error: 37\n",
            "Errors at threshold  0.7200000000000003 : 445  , type 2 error : 410  , type 1 error: 35\n",
            "Errors at threshold  0.7300000000000003 : 451  , type 2 error : 416  , type 1 error: 35\n",
            "Errors at threshold  0.7400000000000003 : 450  , type 2 error : 417  , type 1 error: 33\n",
            "Errors at threshold  0.7500000000000003 : 453  , type 2 error : 421  , type 1 error: 32\n",
            "Errors at threshold  0.7600000000000003 : 458  , type 2 error : 427  , type 1 error: 31\n",
            "Errors at threshold  0.7700000000000004 : 456  , type 2 error : 427  , type 1 error: 29\n",
            "Errors at threshold  0.7800000000000004 : 458  , type 2 error : 433  , type 1 error: 25\n",
            "Errors at threshold  0.7900000000000004 : 461  , type 2 error : 438  , type 1 error: 23\n"
          ]
        }
      ],
      "source": [
        "for a in np.arange(0.4,0.8,0.01):\n",
        "    predict_mine = np.where(y_pred_prob[:,1] > a, 1, 0)\n",
        "    cfm=confusion_matrix(Y_test, predict_mine)\n",
        "    total_err=cfm[0,1]+cfm[1,0]\n",
        "    print(\"Errors at threshold \", a, \":\",total_err, \" , type 2 error :\", \n",
        "          cfm[1,0],\" , type 1 error:\", cfm[0,1])"
      ]
    },
    {
      "cell_type": "code",
      "source": [],
      "metadata": {
        "id": "ZhT18NhKIYMZ"
      },
      "execution_count": null,
      "outputs": []
    }
  ],
  "metadata": {
    "colab": {
      "provenance": [],
      "toc_visible": true
    },
    "kernelspec": {
      "display_name": "Python 3",
      "language": "python",
      "name": "python3"
    },
    "language_info": {
      "codemirror_mode": {
        "name": "ipython",
        "version": 3
      },
      "file_extension": ".py",
      "mimetype": "text/x-python",
      "name": "python",
      "nbconvert_exporter": "python",
      "pygments_lexer": "ipython3",
      "version": "3.8.8"
    }
  },
  "nbformat": 4,
  "nbformat_minor": 0
}